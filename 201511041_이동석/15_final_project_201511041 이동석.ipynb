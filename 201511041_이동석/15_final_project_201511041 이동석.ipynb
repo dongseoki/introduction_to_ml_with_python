{
 "cells": [
  {
   "cell_type": "markdown",
   "metadata": {},
   "source": [
    "## 빅데이터 응용 Final 프로젝트 과제 내용"
   ]
  },
  {
   "cell_type": "markdown",
   "metadata": {},
   "source": [
    "빅데이터 응용 Final 프로젝트과제 2020-06-10 00:00:00 ~ 2020-06-26 23:59:00\n",
    "- 다양한 데이터셋을 시각화하여 분석하는 프로젝트\n",
    "- 평가방법 : 데이터의 시각화, 데이터의 분석 등\n",
    "- 데이터셋을 하나 선정하여 창의적으로 여러방식으로 분석해보시기 바랍니다.\n",
    "- Jupyter notebook file, readme file, pdf file, dataset file 네가지 압축하여 제출 (파일명: 학번_이름.zip)\n",
    "\n",
    "\n",
    " Readme 파일: 데이터출처, 추가 패키지 설치 필요한 경우 설명 작성\n",
    "\n",
    "pdf 파일: jupyter notebook 단순 변환\n",
    "- 데이터셋 참조\n",
    "\n",
    "https://brunch.co.kr/@data/10\n",
    "\n",
    "https://brunch.co.kr/@jowlee/118\n",
    "\n",
    "- 프로젝트 예시 참조\n",
    "\n",
    "Lecture 13,1410\n",
    "\n",
    "Kaggle notebook (포함 온라인의 모든 자료들)"
   ]
  },
  {
   "cell_type": "markdown",
   "metadata": {},
   "source": [
    "Contents of the Notebook:¶\n",
    "Part1: Exploratory Data Analysis(EDA):\n",
    "1)Analysis of the features.\n",
    "\n",
    "2)Finding any relations or trends considering multiple features.\n",
    "\n",
    "Part2: Feature Engineering and Data Cleaning:\n",
    "1)Adding any few features.\n",
    "\n",
    "2)Removing redundant features.\n",
    "\n",
    "3)Converting features into suitable form for modeling.\n",
    "\n",
    "Part3: Predictive Modeling\n",
    "1)Running Basic Algorithms.\n",
    "\n",
    "2)Cross Validation.\n",
    "\n",
    "3)Ensembling.\n",
    "\n",
    "4)Important Features Extraction."
   ]
  },
  {
   "cell_type": "markdown",
   "metadata": {},
   "source": [
    "##  문제 정의 및 데이터 수집"
   ]
  },
  {
   "cell_type": "markdown",
   "metadata": {},
   "source": [
    "어떤 데이터를 골라야 할지 고민을 많이 했습니다.\n",
    "타이타닉 데이터 처럼, \n",
    "1. 데이터가 많아야 하고, \n",
    "2. 이거 해볼만하겠는데?\n",
    "라는 기준으로\n",
    "\n",
    "https://brunch.co.kr/@jowlee/118\n",
    "\n",
    "위 에서 제공하는 다양한 데이터를 조회하였습니다.\n",
    "\n",
    "그중에 제가 마음에 든것은 바로\n",
    "\n",
    "도로교통공단에서 제공하는 교통사고 분석 시스템이였습니다.\n",
    "http://taas.koroad.or.kr/\n",
    "\n",
    "위에서 저는\n",
    "http://taas.koroad.or.kr/api/selectDeathDataSet.do\n",
    "\n",
    "사고별 사망자 정보 csv 파일을 얻을 수 있었습니다.\n"
   ]
  },
  {
   "cell_type": "code",
   "execution_count": 1,
   "metadata": {
    "ExecuteTime": {
     "end_time": "2020-08-09T11:14:52.608959Z",
     "start_time": "2020-08-09T11:14:51.024969Z"
    }
   },
   "outputs": [],
   "source": [
    "import numpy as np \n",
    "import pandas as pd\n",
    "import matplotlib.pyplot as plt"
   ]
  },
  {
   "cell_type": "code",
   "execution_count": 2,
   "metadata": {
    "ExecuteTime": {
     "end_time": "2020-08-09T11:14:54.366059Z",
     "start_time": "2020-08-09T11:14:52.621968Z"
    }
   },
   "outputs": [],
   "source": [
    "import seaborn as sns\n",
    "plt.style.use('fivethirtyeight')\n",
    "import warnings\n",
    "warnings.filterwarnings('ignore')\n",
    "%matplotlib inline"
   ]
  },
  {
   "cell_type": "code",
   "execution_count": 3,
   "metadata": {
    "ExecuteTime": {
     "end_time": "2020-08-09T11:14:54.414966Z",
     "start_time": "2020-08-09T11:14:54.372969Z"
    }
   },
   "outputs": [],
   "source": [
    "import matplotlib\n",
    "import matplotlib.font_manager as fm\n",
    "fm.get_fontconfig_fonts()\n",
    "\n",
    "#https://m.blog.naver.com/PostView.nhn?blogId=wideeyed&logNo=221225208497&proxyReferer=https:%2F%2Fwww.google.com%2F\n",
    "# 위를 참고하여 한글 깨짐 해결.\n",
    "\n",
    "font_location = './NanumFontSetup_TTF_SQUARE/NanumSquareB.ttf' # For Windows\n",
    "font_name = fm.FontProperties(fname=font_location).get_name()\n",
    "matplotlib.rc('font', family=font_name)"
   ]
  },
  {
   "cell_type": "code",
   "execution_count": 4,
   "metadata": {
    "ExecuteTime": {
     "end_time": "2020-08-09T11:14:54.935973Z",
     "start_time": "2020-08-09T11:14:54.418975Z"
    }
   },
   "outputs": [],
   "source": [
    "#data=pd.read_csv('12_19_death.csv',encoding = 'utf-8')\n",
    "# 위 코드는 오류가 났다. 오류 메세지는 \n",
    "#'utf-8' codec can't decode byte 0xb9 in position 0: invalid start byte\n",
    "# 위와 같았고\n",
    "# 자세히 알아보니, file의 encoding 방식이 다른 것.\n",
    "# 그래서 저는 excel을 이용해  12_19_death.csv를 csv-utf-8로 저장함으로써 해결하였습니다.\n",
    "\n",
    "data=pd.read_csv('12_19_death_utf8.csv',encoding = 'utf-8')"
   ]
  },
  {
   "cell_type": "code",
   "execution_count": 5,
   "metadata": {
    "ExecuteTime": {
     "end_time": "2020-08-09T11:14:54.951970Z",
     "start_time": "2020-08-09T11:14:54.941978Z"
    },
    "scrolled": true
   },
   "outputs": [],
   "source": [
    "#importing_test=pd.read_csv('C:/Users/like_/NaverCloud/2020년/학교 수업/빅데이터 응용/SourceCode/12_19_death.csv',engine='python')"
   ]
  },
  {
   "cell_type": "markdown",
   "metadata": {},
   "source": [
    "## Exploratory Data Analysis(EDA):"
   ]
  },
  {
   "cell_type": "markdown",
   "metadata": {
    "ExecuteTime": {
     "end_time": "2020-06-26T05:05:51.956902Z",
     "start_time": "2020-06-26T05:05:51.951913Z"
    }
   },
   "source": [
    "### 데이터 전처리"
   ]
  },
  {
   "cell_type": "code",
   "execution_count": 6,
   "metadata": {
    "ExecuteTime": {
     "end_time": "2020-08-09T11:14:55.047967Z",
     "start_time": "2020-08-09T11:14:54.960967Z"
    },
    "scrolled": true
   },
   "outputs": [
    {
     "data": {
      "text/html": [
       "<div>\n",
       "<style scoped>\n",
       "    .dataframe tbody tr th:only-of-type {\n",
       "        vertical-align: middle;\n",
       "    }\n",
       "\n",
       "    .dataframe tbody tr th {\n",
       "        vertical-align: top;\n",
       "    }\n",
       "\n",
       "    .dataframe thead th {\n",
       "        text-align: right;\n",
       "    }\n",
       "</style>\n",
       "<table border=\"1\" class=\"dataframe\">\n",
       "  <thead>\n",
       "    <tr style=\"text-align: right;\">\n",
       "      <th></th>\n",
       "      <th>발생년</th>\n",
       "      <th>발생년월일시</th>\n",
       "      <th>발생분</th>\n",
       "      <th>주야</th>\n",
       "      <th>요일</th>\n",
       "      <th>사망자수</th>\n",
       "      <th>사상자수</th>\n",
       "      <th>중상자수</th>\n",
       "      <th>경상자수</th>\n",
       "      <th>부상신고자수</th>\n",
       "      <th>...</th>\n",
       "      <th>당사자종별_1당_대분류</th>\n",
       "      <th>당사자종별_1당</th>\n",
       "      <th>당사자종별_2당_대분류</th>\n",
       "      <th>당사자종별_2당</th>\n",
       "      <th>발생위치X_UTMK</th>\n",
       "      <th>발생위치Y_UTMK</th>\n",
       "      <th>경도</th>\n",
       "      <th>위도</th>\n",
       "      <th>Unnamed: 27</th>\n",
       "      <th>Unnamed: 28</th>\n",
       "    </tr>\n",
       "  </thead>\n",
       "  <tbody>\n",
       "    <tr>\n",
       "      <th>0</th>\n",
       "      <td>2012</td>\n",
       "      <td>2012010101</td>\n",
       "      <td>50</td>\n",
       "      <td>야간</td>\n",
       "      <td>일</td>\n",
       "      <td>1</td>\n",
       "      <td>1</td>\n",
       "      <td>0</td>\n",
       "      <td>0</td>\n",
       "      <td>0</td>\n",
       "      <td>...</td>\n",
       "      <td>승용차</td>\n",
       "      <td>중형</td>\n",
       "      <td>보행자</td>\n",
       "      <td>보행자</td>\n",
       "      <td>949860</td>\n",
       "      <td>949860</td>\n",
       "      <td>126.931891</td>\n",
       "      <td>37.612680</td>\n",
       "      <td>NaN</td>\n",
       "      <td>NaN</td>\n",
       "    </tr>\n",
       "    <tr>\n",
       "      <th>1</th>\n",
       "      <td>2012</td>\n",
       "      <td>2012010101</td>\n",
       "      <td>5</td>\n",
       "      <td>야간</td>\n",
       "      <td>일</td>\n",
       "      <td>1</td>\n",
       "      <td>6</td>\n",
       "      <td>5</td>\n",
       "      <td>0</td>\n",
       "      <td>0</td>\n",
       "      <td>...</td>\n",
       "      <td>승용차</td>\n",
       "      <td>중형</td>\n",
       "      <td>승용차</td>\n",
       "      <td>소형</td>\n",
       "      <td>946537</td>\n",
       "      <td>946537</td>\n",
       "      <td>126.909523</td>\n",
       "      <td>35.633956</td>\n",
       "      <td>NaN</td>\n",
       "      <td>NaN</td>\n",
       "    </tr>\n",
       "    <tr>\n",
       "      <th>2</th>\n",
       "      <td>2012</td>\n",
       "      <td>2012010108</td>\n",
       "      <td>50</td>\n",
       "      <td>주간</td>\n",
       "      <td>일</td>\n",
       "      <td>1</td>\n",
       "      <td>1</td>\n",
       "      <td>0</td>\n",
       "      <td>0</td>\n",
       "      <td>0</td>\n",
       "      <td>...</td>\n",
       "      <td>승용차</td>\n",
       "      <td>소형</td>\n",
       "      <td>없음</td>\n",
       "      <td>없음</td>\n",
       "      <td>940016</td>\n",
       "      <td>940016</td>\n",
       "      <td>126.830281</td>\n",
       "      <td>36.491268</td>\n",
       "      <td>NaN</td>\n",
       "      <td>NaN</td>\n",
       "    </tr>\n",
       "    <tr>\n",
       "      <th>3</th>\n",
       "      <td>2012</td>\n",
       "      <td>2012010110</td>\n",
       "      <td>25</td>\n",
       "      <td>주간</td>\n",
       "      <td>일</td>\n",
       "      <td>2</td>\n",
       "      <td>2</td>\n",
       "      <td>0</td>\n",
       "      <td>0</td>\n",
       "      <td>0</td>\n",
       "      <td>...</td>\n",
       "      <td>승합차</td>\n",
       "      <td>대형</td>\n",
       "      <td>승용차</td>\n",
       "      <td>소형</td>\n",
       "      <td>1059321</td>\n",
       "      <td>1059321</td>\n",
       "      <td>128.155984</td>\n",
       "      <td>35.733503</td>\n",
       "      <td>NaN</td>\n",
       "      <td>NaN</td>\n",
       "    </tr>\n",
       "    <tr>\n",
       "      <th>4</th>\n",
       "      <td>2012</td>\n",
       "      <td>2012010103</td>\n",
       "      <td>30</td>\n",
       "      <td>야간</td>\n",
       "      <td>일</td>\n",
       "      <td>1</td>\n",
       "      <td>1</td>\n",
       "      <td>0</td>\n",
       "      <td>0</td>\n",
       "      <td>0</td>\n",
       "      <td>...</td>\n",
       "      <td>승용차</td>\n",
       "      <td>중형</td>\n",
       "      <td>없음</td>\n",
       "      <td>없음</td>\n",
       "      <td>1070222</td>\n",
       "      <td>1070222</td>\n",
       "      <td>128.284180</td>\n",
       "      <td>36.506769</td>\n",
       "      <td>NaN</td>\n",
       "      <td>NaN</td>\n",
       "    </tr>\n",
       "  </tbody>\n",
       "</table>\n",
       "<p>5 rows × 29 columns</p>\n",
       "</div>"
      ],
      "text/plain": [
       "    발생년      발생년월일시  발생분  주야 요일  사망자수  사상자수  중상자수  경상자수  부상신고자수  ...  \\\n",
       "0  2012  2012010101   50  야간  일     1     1     0     0       0  ...   \n",
       "1  2012  2012010101    5  야간  일     1     6     5     0       0  ...   \n",
       "2  2012  2012010108   50  주간  일     1     1     0     0       0  ...   \n",
       "3  2012  2012010110   25  주간  일     2     2     0     0       0  ...   \n",
       "4  2012  2012010103   30  야간  일     1     1     0     0       0  ...   \n",
       "\n",
       "  당사자종별_1당_대분류 당사자종별_1당 당사자종별_2당_대분류 당사자종별_2당 발생위치X_UTMK 발생위치Y_UTMK  \\\n",
       "0          승용차       중형          보행자      보행자     949860     949860   \n",
       "1          승용차       중형          승용차       소형     946537     946537   \n",
       "2          승용차       소형           없음       없음     940016     940016   \n",
       "3          승합차       대형          승용차       소형    1059321    1059321   \n",
       "4          승용차       중형           없음       없음    1070222    1070222   \n",
       "\n",
       "           경도         위도 Unnamed: 27 Unnamed: 28  \n",
       "0  126.931891  37.612680         NaN         NaN  \n",
       "1  126.909523  35.633956         NaN         NaN  \n",
       "2  126.830281  36.491268         NaN         NaN  \n",
       "3  128.155984  35.733503         NaN         NaN  \n",
       "4  128.284180  36.506769         NaN         NaN  \n",
       "\n",
       "[5 rows x 29 columns]"
      ]
     },
     "execution_count": 6,
     "metadata": {},
     "output_type": "execute_result"
    }
   ],
   "source": [
    "data.head()"
   ]
  },
  {
   "cell_type": "markdown",
   "metadata": {},
   "source": [
    "#### 몇건의 데이터, 그리고 column의 개수는"
   ]
  },
  {
   "cell_type": "code",
   "execution_count": 7,
   "metadata": {
    "ExecuteTime": {
     "end_time": "2020-08-09T11:14:55.063970Z",
     "start_time": "2020-08-09T11:14:55.052966Z"
    },
    "scrolled": true
   },
   "outputs": [
    {
     "data": {
      "text/plain": [
       "(34145, 29)"
      ]
     },
     "execution_count": 7,
     "metadata": {},
     "output_type": "execute_result"
    }
   ],
   "source": [
    "data.shape"
   ]
  },
  {
   "cell_type": "markdown",
   "metadata": {},
   "source": [
    "3만 4천개의 데이터, 그리고 column의 개수는 29개 였습니다."
   ]
  },
  {
   "cell_type": "markdown",
   "metadata": {
    "ExecuteTime": {
     "end_time": "2020-06-25T13:28:03.757317Z",
     "start_time": "2020-06-25T13:28:03.753334Z"
    }
   },
   "source": [
    "#### column은 무엇이 있나"
   ]
  },
  {
   "cell_type": "code",
   "execution_count": 8,
   "metadata": {
    "ExecuteTime": {
     "end_time": "2020-08-09T11:14:55.095959Z",
     "start_time": "2020-08-09T11:14:55.072966Z"
    },
    "scrolled": false
   },
   "outputs": [
    {
     "data": {
      "text/plain": [
       "Index(['발생년', '발생년월일시', '발생분', '주야', '요일', '사망자수', '사상자수', '중상자수', '경상자수',\n",
       "       '부상신고자수', '발생지시도', '발생지시군구', '사고유형_대분류', '사고유형_중분류', '사고유형', '법규위반_대분류',\n",
       "       '법규위반', '도로형태_대분류', '도로형태', '당사자종별_1당_대분류', '당사자종별_1당', '당사자종별_2당_대분류',\n",
       "       '당사자종별_2당', '발생위치X_UTMK', '발생위치Y_UTMK', '경도', '위도', 'Unnamed: 27',\n",
       "       'Unnamed: 28'],\n",
       "      dtype='object')"
      ]
     },
     "execution_count": 8,
     "metadata": {},
     "output_type": "execute_result"
    }
   ],
   "source": [
    "data.columns"
   ]
  },
  {
   "cell_type": "markdown",
   "metadata": {},
   "source": [
    "#### 의미 없는 컬럼의 삭제"
   ]
  },
  {
   "cell_type": "markdown",
   "metadata": {},
   "source": [
    "발생위치X_UTMK\t발생위치Y_UTMK\t경도\t위도\n",
    "데이터는 알아봤자 잘 활용을 못할 거 같아서 지우겠습니다.\n",
    "\n",
    "또한 Unnamed: 27, Unnamed: 27 은 의미 없는 데이터가 들어 있어 삭제하겠습니다."
   ]
  },
  {
   "cell_type": "code",
   "execution_count": 9,
   "metadata": {
    "ExecuteTime": {
     "end_time": "2020-08-09T11:14:55.126958Z",
     "start_time": "2020-08-09T11:14:55.101969Z"
    }
   },
   "outputs": [],
   "source": [
    "#data.drop(['발생위치X_UTMK', '발생위치Y_UTMK' , '경도' ,'위도'], axis =1)\n",
    "data = data.drop(['발생위치X_UTMK', '발생위치Y_UTMK' , '경도' ,'위도','Unnamed: 27', 'Unnamed: 28'], axis =1)"
   ]
  },
  {
   "cell_type": "code",
   "execution_count": 10,
   "metadata": {
    "ExecuteTime": {
     "end_time": "2020-08-09T11:14:55.190963Z",
     "start_time": "2020-08-09T11:14:55.131965Z"
    },
    "scrolled": true
   },
   "outputs": [
    {
     "data": {
      "text/html": [
       "<div>\n",
       "<style scoped>\n",
       "    .dataframe tbody tr th:only-of-type {\n",
       "        vertical-align: middle;\n",
       "    }\n",
       "\n",
       "    .dataframe tbody tr th {\n",
       "        vertical-align: top;\n",
       "    }\n",
       "\n",
       "    .dataframe thead th {\n",
       "        text-align: right;\n",
       "    }\n",
       "</style>\n",
       "<table border=\"1\" class=\"dataframe\">\n",
       "  <thead>\n",
       "    <tr style=\"text-align: right;\">\n",
       "      <th></th>\n",
       "      <th>발생년</th>\n",
       "      <th>발생년월일시</th>\n",
       "      <th>발생분</th>\n",
       "      <th>주야</th>\n",
       "      <th>요일</th>\n",
       "      <th>사망자수</th>\n",
       "      <th>사상자수</th>\n",
       "      <th>중상자수</th>\n",
       "      <th>경상자수</th>\n",
       "      <th>부상신고자수</th>\n",
       "      <th>...</th>\n",
       "      <th>사고유형_중분류</th>\n",
       "      <th>사고유형</th>\n",
       "      <th>법규위반_대분류</th>\n",
       "      <th>법규위반</th>\n",
       "      <th>도로형태_대분류</th>\n",
       "      <th>도로형태</th>\n",
       "      <th>당사자종별_1당_대분류</th>\n",
       "      <th>당사자종별_1당</th>\n",
       "      <th>당사자종별_2당_대분류</th>\n",
       "      <th>당사자종별_2당</th>\n",
       "    </tr>\n",
       "  </thead>\n",
       "  <tbody>\n",
       "    <tr>\n",
       "      <th>0</th>\n",
       "      <td>2012</td>\n",
       "      <td>2012010101</td>\n",
       "      <td>50</td>\n",
       "      <td>야간</td>\n",
       "      <td>일</td>\n",
       "      <td>1</td>\n",
       "      <td>1</td>\n",
       "      <td>0</td>\n",
       "      <td>0</td>\n",
       "      <td>0</td>\n",
       "      <td>...</td>\n",
       "      <td>차도통행중</td>\n",
       "      <td>차도통행중</td>\n",
       "      <td>운전자법규위반</td>\n",
       "      <td>안전운전 의무 불이행</td>\n",
       "      <td>단일로</td>\n",
       "      <td>기타단일로</td>\n",
       "      <td>승용차</td>\n",
       "      <td>중형</td>\n",
       "      <td>보행자</td>\n",
       "      <td>보행자</td>\n",
       "    </tr>\n",
       "    <tr>\n",
       "      <th>1</th>\n",
       "      <td>2012</td>\n",
       "      <td>2012010101</td>\n",
       "      <td>5</td>\n",
       "      <td>야간</td>\n",
       "      <td>일</td>\n",
       "      <td>1</td>\n",
       "      <td>6</td>\n",
       "      <td>5</td>\n",
       "      <td>0</td>\n",
       "      <td>0</td>\n",
       "      <td>...</td>\n",
       "      <td>정면충돌</td>\n",
       "      <td>정면충돌</td>\n",
       "      <td>운전자법규위반</td>\n",
       "      <td>중앙선 침범</td>\n",
       "      <td>단일로</td>\n",
       "      <td>기타단일로</td>\n",
       "      <td>승용차</td>\n",
       "      <td>중형</td>\n",
       "      <td>승용차</td>\n",
       "      <td>소형</td>\n",
       "    </tr>\n",
       "    <tr>\n",
       "      <th>2</th>\n",
       "      <td>2012</td>\n",
       "      <td>2012010108</td>\n",
       "      <td>50</td>\n",
       "      <td>주간</td>\n",
       "      <td>일</td>\n",
       "      <td>1</td>\n",
       "      <td>1</td>\n",
       "      <td>0</td>\n",
       "      <td>0</td>\n",
       "      <td>0</td>\n",
       "      <td>...</td>\n",
       "      <td>공작물충돌</td>\n",
       "      <td>공작물충돌</td>\n",
       "      <td>운전자법규위반</td>\n",
       "      <td>안전운전 의무 불이행</td>\n",
       "      <td>단일로</td>\n",
       "      <td>기타단일로</td>\n",
       "      <td>승용차</td>\n",
       "      <td>소형</td>\n",
       "      <td>없음</td>\n",
       "      <td>없음</td>\n",
       "    </tr>\n",
       "    <tr>\n",
       "      <th>3</th>\n",
       "      <td>2012</td>\n",
       "      <td>2012010110</td>\n",
       "      <td>25</td>\n",
       "      <td>주간</td>\n",
       "      <td>일</td>\n",
       "      <td>2</td>\n",
       "      <td>2</td>\n",
       "      <td>0</td>\n",
       "      <td>0</td>\n",
       "      <td>0</td>\n",
       "      <td>...</td>\n",
       "      <td>측면충돌</td>\n",
       "      <td>측면충돌</td>\n",
       "      <td>운전자법규위반</td>\n",
       "      <td>제한속도 위반(20KM 초과시)</td>\n",
       "      <td>교차로</td>\n",
       "      <td>교차로내</td>\n",
       "      <td>승합차</td>\n",
       "      <td>대형</td>\n",
       "      <td>승용차</td>\n",
       "      <td>소형</td>\n",
       "    </tr>\n",
       "    <tr>\n",
       "      <th>4</th>\n",
       "      <td>2012</td>\n",
       "      <td>2012010103</td>\n",
       "      <td>30</td>\n",
       "      <td>야간</td>\n",
       "      <td>일</td>\n",
       "      <td>1</td>\n",
       "      <td>1</td>\n",
       "      <td>0</td>\n",
       "      <td>0</td>\n",
       "      <td>0</td>\n",
       "      <td>...</td>\n",
       "      <td>도로이탈</td>\n",
       "      <td>도로이탈 추락</td>\n",
       "      <td>운전자법규위반</td>\n",
       "      <td>안전운전 의무 불이행</td>\n",
       "      <td>단일로</td>\n",
       "      <td>기타단일로</td>\n",
       "      <td>승용차</td>\n",
       "      <td>중형</td>\n",
       "      <td>없음</td>\n",
       "      <td>없음</td>\n",
       "    </tr>\n",
       "  </tbody>\n",
       "</table>\n",
       "<p>5 rows × 23 columns</p>\n",
       "</div>"
      ],
      "text/plain": [
       "    발생년      발생년월일시  발생분  주야 요일  사망자수  사상자수  중상자수  경상자수  부상신고자수  ... 사고유형_중분류  \\\n",
       "0  2012  2012010101   50  야간  일     1     1     0     0       0  ...    차도통행중   \n",
       "1  2012  2012010101    5  야간  일     1     6     5     0       0  ...     정면충돌   \n",
       "2  2012  2012010108   50  주간  일     1     1     0     0       0  ...    공작물충돌   \n",
       "3  2012  2012010110   25  주간  일     2     2     0     0       0  ...     측면충돌   \n",
       "4  2012  2012010103   30  야간  일     1     1     0     0       0  ...     도로이탈   \n",
       "\n",
       "      사고유형 법규위반_대분류               법규위반 도로형태_대분류   도로형태 당사자종별_1당_대분류 당사자종별_1당  \\\n",
       "0    차도통행중  운전자법규위반        안전운전 의무 불이행      단일로  기타단일로          승용차       중형   \n",
       "1     정면충돌  운전자법규위반             중앙선 침범      단일로  기타단일로          승용차       중형   \n",
       "2    공작물충돌  운전자법규위반        안전운전 의무 불이행      단일로  기타단일로          승용차       소형   \n",
       "3     측면충돌  운전자법규위반  제한속도 위반(20KM 초과시)      교차로   교차로내          승합차       대형   \n",
       "4  도로이탈 추락  운전자법규위반        안전운전 의무 불이행      단일로  기타단일로          승용차       중형   \n",
       "\n",
       "  당사자종별_2당_대분류 당사자종별_2당  \n",
       "0          보행자      보행자  \n",
       "1          승용차       소형  \n",
       "2           없음       없음  \n",
       "3          승용차       소형  \n",
       "4           없음       없음  \n",
       "\n",
       "[5 rows x 23 columns]"
      ]
     },
     "execution_count": 10,
     "metadata": {},
     "output_type": "execute_result"
    }
   ],
   "source": [
    "data.head()"
   ]
  },
  {
   "cell_type": "markdown",
   "metadata": {},
   "source": [
    "### 결측치가 있나 확인 "
   ]
  },
  {
   "cell_type": "code",
   "execution_count": 11,
   "metadata": {
    "ExecuteTime": {
     "end_time": "2020-08-09T11:14:55.252965Z",
     "start_time": "2020-08-09T11:14:55.196967Z"
    },
    "scrolled": true
   },
   "outputs": [
    {
     "data": {
      "text/plain": [
       "발생년             0\n",
       "발생년월일시          0\n",
       "발생분             0\n",
       "주야              0\n",
       "요일              0\n",
       "사망자수            0\n",
       "사상자수            0\n",
       "중상자수            0\n",
       "경상자수            0\n",
       "부상신고자수          0\n",
       "발생지시도           0\n",
       "발생지시군구          0\n",
       "사고유형_대분류        0\n",
       "사고유형_중분류        0\n",
       "사고유형            0\n",
       "법규위반_대분류        0\n",
       "법규위반            0\n",
       "도로형태_대분류        0\n",
       "도로형태            0\n",
       "당사자종별_1당_대분류    0\n",
       "당사자종별_1당        0\n",
       "당사자종별_2당_대분류    0\n",
       "당사자종별_2당        0\n",
       "dtype: int64"
      ]
     },
     "execution_count": 11,
     "metadata": {},
     "output_type": "execute_result"
    }
   ],
   "source": [
    "data.isnull().sum()"
   ]
  },
  {
   "cell_type": "markdown",
   "metadata": {},
   "source": [
    "다행스럽게 null 값이 하나도 없습니다.\n"
   ]
  },
  {
   "cell_type": "markdown",
   "metadata": {},
   "source": [
    "저는 사고 유형을 주시했고, 어떤 값이 사고 유형에 영향을 끼쳤을 까 시각해 보고, 조사해보도록 하겠습니다."
   ]
  },
  {
   "cell_type": "markdown",
   "metadata": {},
   "source": [
    "### 사상자 수의 평균"
   ]
  },
  {
   "cell_type": "code",
   "execution_count": 12,
   "metadata": {
    "ExecuteTime": {
     "end_time": "2020-08-09T11:14:55.347962Z",
     "start_time": "2020-08-09T11:14:55.256964Z"
    },
    "scrolled": false
   },
   "outputs": [
    {
     "data": {
      "text/html": [
       "<div>\n",
       "<style scoped>\n",
       "    .dataframe tbody tr th:only-of-type {\n",
       "        vertical-align: middle;\n",
       "    }\n",
       "\n",
       "    .dataframe tbody tr th {\n",
       "        vertical-align: top;\n",
       "    }\n",
       "\n",
       "    .dataframe thead th {\n",
       "        text-align: right;\n",
       "    }\n",
       "</style>\n",
       "<table border=\"1\" class=\"dataframe\">\n",
       "  <thead>\n",
       "    <tr style=\"text-align: right;\">\n",
       "      <th></th>\n",
       "      <th>발생년</th>\n",
       "      <th>발생년월일시</th>\n",
       "      <th>발생분</th>\n",
       "      <th>사망자수</th>\n",
       "      <th>사상자수</th>\n",
       "      <th>중상자수</th>\n",
       "      <th>경상자수</th>\n",
       "      <th>부상신고자수</th>\n",
       "    </tr>\n",
       "  </thead>\n",
       "  <tbody>\n",
       "    <tr>\n",
       "      <th>count</th>\n",
       "      <td>34145.000000</td>\n",
       "      <td>3.414500e+04</td>\n",
       "      <td>34145.000000</td>\n",
       "      <td>34145.000000</td>\n",
       "      <td>34145.000000</td>\n",
       "      <td>34145.000000</td>\n",
       "      <td>34145.000000</td>\n",
       "      <td>34145.00000</td>\n",
       "    </tr>\n",
       "    <tr>\n",
       "      <th>mean</th>\n",
       "      <td>2015.185152</td>\n",
       "      <td>2.015254e+09</td>\n",
       "      <td>27.219710</td>\n",
       "      <td>1.038922</td>\n",
       "      <td>1.608932</td>\n",
       "      <td>0.279865</td>\n",
       "      <td>0.258515</td>\n",
       "      <td>0.03163</td>\n",
       "    </tr>\n",
       "    <tr>\n",
       "      <th>std</th>\n",
       "      <td>2.260179</td>\n",
       "      <td>2.260353e+06</td>\n",
       "      <td>17.396288</td>\n",
       "      <td>0.243548</td>\n",
       "      <td>2.042292</td>\n",
       "      <td>0.981340</td>\n",
       "      <td>1.186744</td>\n",
       "      <td>0.51744</td>\n",
       "    </tr>\n",
       "    <tr>\n",
       "      <th>min</th>\n",
       "      <td>2012.000000</td>\n",
       "      <td>2.012010e+09</td>\n",
       "      <td>0.000000</td>\n",
       "      <td>1.000000</td>\n",
       "      <td>1.000000</td>\n",
       "      <td>0.000000</td>\n",
       "      <td>0.000000</td>\n",
       "      <td>0.00000</td>\n",
       "    </tr>\n",
       "    <tr>\n",
       "      <th>25%</th>\n",
       "      <td>2013.000000</td>\n",
       "      <td>2.013092e+09</td>\n",
       "      <td>11.000000</td>\n",
       "      <td>1.000000</td>\n",
       "      <td>1.000000</td>\n",
       "      <td>0.000000</td>\n",
       "      <td>0.000000</td>\n",
       "      <td>0.00000</td>\n",
       "    </tr>\n",
       "    <tr>\n",
       "      <th>50%</th>\n",
       "      <td>2015.000000</td>\n",
       "      <td>2.015080e+09</td>\n",
       "      <td>28.000000</td>\n",
       "      <td>1.000000</td>\n",
       "      <td>1.000000</td>\n",
       "      <td>0.000000</td>\n",
       "      <td>0.000000</td>\n",
       "      <td>0.00000</td>\n",
       "    </tr>\n",
       "    <tr>\n",
       "      <th>75%</th>\n",
       "      <td>2017.000000</td>\n",
       "      <td>2.017082e+09</td>\n",
       "      <td>41.000000</td>\n",
       "      <td>1.000000</td>\n",
       "      <td>2.000000</td>\n",
       "      <td>0.000000</td>\n",
       "      <td>0.000000</td>\n",
       "      <td>0.00000</td>\n",
       "    </tr>\n",
       "    <tr>\n",
       "      <th>max</th>\n",
       "      <td>2019.000000</td>\n",
       "      <td>2.019123e+09</td>\n",
       "      <td>59.000000</td>\n",
       "      <td>10.000000</td>\n",
       "      <td>105.000000</td>\n",
       "      <td>54.000000</td>\n",
       "      <td>68.000000</td>\n",
       "      <td>67.00000</td>\n",
       "    </tr>\n",
       "  </tbody>\n",
       "</table>\n",
       "</div>"
      ],
      "text/plain": [
       "                발생년        발생년월일시           발생분          사망자수          사상자수  \\\n",
       "count  34145.000000  3.414500e+04  34145.000000  34145.000000  34145.000000   \n",
       "mean    2015.185152  2.015254e+09     27.219710      1.038922      1.608932   \n",
       "std        2.260179  2.260353e+06     17.396288      0.243548      2.042292   \n",
       "min     2012.000000  2.012010e+09      0.000000      1.000000      1.000000   \n",
       "25%     2013.000000  2.013092e+09     11.000000      1.000000      1.000000   \n",
       "50%     2015.000000  2.015080e+09     28.000000      1.000000      1.000000   \n",
       "75%     2017.000000  2.017082e+09     41.000000      1.000000      2.000000   \n",
       "max     2019.000000  2.019123e+09     59.000000     10.000000    105.000000   \n",
       "\n",
       "               중상자수          경상자수       부상신고자수  \n",
       "count  34145.000000  34145.000000  34145.00000  \n",
       "mean       0.279865      0.258515      0.03163  \n",
       "std        0.981340      1.186744      0.51744  \n",
       "min        0.000000      0.000000      0.00000  \n",
       "25%        0.000000      0.000000      0.00000  \n",
       "50%        0.000000      0.000000      0.00000  \n",
       "75%        0.000000      0.000000      0.00000  \n",
       "max       54.000000     68.000000     67.00000  "
      ]
     },
     "execution_count": 12,
     "metadata": {},
     "output_type": "execute_result"
    }
   ],
   "source": [
    "data.describe()"
   ]
  },
  {
   "cell_type": "markdown",
   "metadata": {},
   "source": [
    "사상자 수는 평균 2명이였습니다.\n",
    "그리고 최소 1명, 그리고 최대 105명이였음을 알수 있습니다."
   ]
  },
  {
   "cell_type": "code",
   "execution_count": 13,
   "metadata": {
    "ExecuteTime": {
     "end_time": "2020-08-09T11:14:55.379964Z",
     "start_time": "2020-08-09T11:14:55.351968Z"
    },
    "scrolled": true
   },
   "outputs": [
    {
     "data": {
      "text/plain": [
       "1      25284\n",
       "2       4772\n",
       "3       1854\n",
       "4        926\n",
       "5        495\n",
       "6        247\n",
       "7        151\n",
       "8         98\n",
       "9         68\n",
       "11        38\n",
       "10        38\n",
       "12        31\n",
       "13        17\n",
       "15        14\n",
       "14        14\n",
       "18        13\n",
       "19        10\n",
       "17         9\n",
       "20         8\n",
       "22         6\n",
       "16         6\n",
       "27         5\n",
       "25         5\n",
       "24         4\n",
       "31         3\n",
       "43         3\n",
       "21         2\n",
       "37         2\n",
       "34         2\n",
       "28         2\n",
       "35         2\n",
       "26         2\n",
       "44         1\n",
       "57         1\n",
       "39         1\n",
       "29         1\n",
       "100        1\n",
       "36         1\n",
       "47         1\n",
       "67         1\n",
       "51         1\n",
       "23         1\n",
       "105        1\n",
       "60         1\n",
       "33         1\n",
       "40         1\n",
       "Name: 사상자수, dtype: int64"
      ]
     },
     "execution_count": 13,
     "metadata": {},
     "output_type": "execute_result"
    }
   ],
   "source": [
    "data['사상자수'].value_counts()"
   ]
  },
  {
   "cell_type": "code",
   "execution_count": 14,
   "metadata": {
    "ExecuteTime": {
     "end_time": "2020-08-09T11:14:55.411961Z",
     "start_time": "2020-08-09T11:14:55.384966Z"
    }
   },
   "outputs": [
    {
     "data": {
      "text/plain": [
       "(4089, 23)"
      ]
     },
     "execution_count": 14,
     "metadata": {},
     "output_type": "execute_result"
    }
   ],
   "source": [
    "data[data['사상자수']>=3].shape"
   ]
  },
  {
   "cell_type": "markdown",
   "metadata": {},
   "source": [
    "사상자 수 3명 이상은 너무 적습니다. 그래서 새로운 분류를 밑에서 만들어 보겠습니다."
   ]
  },
  {
   "cell_type": "markdown",
   "metadata": {},
   "source": [
    "#### 사상자수로 부터 새로운 컬럼 사상자 분류를 만들고, 3명이상의 사상자는 3분류로 만들기"
   ]
  },
  {
   "cell_type": "code",
   "execution_count": 15,
   "metadata": {
    "ExecuteTime": {
     "end_time": "2020-08-09T11:14:55.443969Z",
     "start_time": "2020-08-09T11:14:55.415967Z"
    }
   },
   "outputs": [],
   "source": [
    "data['사상자분류']=data['사상자수']\n",
    "data.loc[data['사상자분류']>=3, '사상자분류']=3 "
   ]
  },
  {
   "cell_type": "code",
   "execution_count": 16,
   "metadata": {
    "ExecuteTime": {
     "end_time": "2020-08-09T11:14:55.506962Z",
     "start_time": "2020-08-09T11:14:55.449973Z"
    }
   },
   "outputs": [
    {
     "data": {
      "text/html": [
       "<div>\n",
       "<style scoped>\n",
       "    .dataframe tbody tr th:only-of-type {\n",
       "        vertical-align: middle;\n",
       "    }\n",
       "\n",
       "    .dataframe tbody tr th {\n",
       "        vertical-align: top;\n",
       "    }\n",
       "\n",
       "    .dataframe thead th {\n",
       "        text-align: right;\n",
       "    }\n",
       "</style>\n",
       "<table border=\"1\" class=\"dataframe\">\n",
       "  <thead>\n",
       "    <tr style=\"text-align: right;\">\n",
       "      <th></th>\n",
       "      <th>발생년</th>\n",
       "      <th>발생년월일시</th>\n",
       "      <th>발생분</th>\n",
       "      <th>주야</th>\n",
       "      <th>요일</th>\n",
       "      <th>사망자수</th>\n",
       "      <th>사상자수</th>\n",
       "      <th>중상자수</th>\n",
       "      <th>경상자수</th>\n",
       "      <th>부상신고자수</th>\n",
       "      <th>...</th>\n",
       "      <th>사고유형</th>\n",
       "      <th>법규위반_대분류</th>\n",
       "      <th>법규위반</th>\n",
       "      <th>도로형태_대분류</th>\n",
       "      <th>도로형태</th>\n",
       "      <th>당사자종별_1당_대분류</th>\n",
       "      <th>당사자종별_1당</th>\n",
       "      <th>당사자종별_2당_대분류</th>\n",
       "      <th>당사자종별_2당</th>\n",
       "      <th>사상자분류</th>\n",
       "    </tr>\n",
       "  </thead>\n",
       "  <tbody>\n",
       "    <tr>\n",
       "      <th>0</th>\n",
       "      <td>2012</td>\n",
       "      <td>2012010101</td>\n",
       "      <td>50</td>\n",
       "      <td>야간</td>\n",
       "      <td>일</td>\n",
       "      <td>1</td>\n",
       "      <td>1</td>\n",
       "      <td>0</td>\n",
       "      <td>0</td>\n",
       "      <td>0</td>\n",
       "      <td>...</td>\n",
       "      <td>차도통행중</td>\n",
       "      <td>운전자법규위반</td>\n",
       "      <td>안전운전 의무 불이행</td>\n",
       "      <td>단일로</td>\n",
       "      <td>기타단일로</td>\n",
       "      <td>승용차</td>\n",
       "      <td>중형</td>\n",
       "      <td>보행자</td>\n",
       "      <td>보행자</td>\n",
       "      <td>1</td>\n",
       "    </tr>\n",
       "    <tr>\n",
       "      <th>1</th>\n",
       "      <td>2012</td>\n",
       "      <td>2012010101</td>\n",
       "      <td>5</td>\n",
       "      <td>야간</td>\n",
       "      <td>일</td>\n",
       "      <td>1</td>\n",
       "      <td>6</td>\n",
       "      <td>5</td>\n",
       "      <td>0</td>\n",
       "      <td>0</td>\n",
       "      <td>...</td>\n",
       "      <td>정면충돌</td>\n",
       "      <td>운전자법규위반</td>\n",
       "      <td>중앙선 침범</td>\n",
       "      <td>단일로</td>\n",
       "      <td>기타단일로</td>\n",
       "      <td>승용차</td>\n",
       "      <td>중형</td>\n",
       "      <td>승용차</td>\n",
       "      <td>소형</td>\n",
       "      <td>3</td>\n",
       "    </tr>\n",
       "    <tr>\n",
       "      <th>2</th>\n",
       "      <td>2012</td>\n",
       "      <td>2012010108</td>\n",
       "      <td>50</td>\n",
       "      <td>주간</td>\n",
       "      <td>일</td>\n",
       "      <td>1</td>\n",
       "      <td>1</td>\n",
       "      <td>0</td>\n",
       "      <td>0</td>\n",
       "      <td>0</td>\n",
       "      <td>...</td>\n",
       "      <td>공작물충돌</td>\n",
       "      <td>운전자법규위반</td>\n",
       "      <td>안전운전 의무 불이행</td>\n",
       "      <td>단일로</td>\n",
       "      <td>기타단일로</td>\n",
       "      <td>승용차</td>\n",
       "      <td>소형</td>\n",
       "      <td>없음</td>\n",
       "      <td>없음</td>\n",
       "      <td>1</td>\n",
       "    </tr>\n",
       "    <tr>\n",
       "      <th>3</th>\n",
       "      <td>2012</td>\n",
       "      <td>2012010110</td>\n",
       "      <td>25</td>\n",
       "      <td>주간</td>\n",
       "      <td>일</td>\n",
       "      <td>2</td>\n",
       "      <td>2</td>\n",
       "      <td>0</td>\n",
       "      <td>0</td>\n",
       "      <td>0</td>\n",
       "      <td>...</td>\n",
       "      <td>측면충돌</td>\n",
       "      <td>운전자법규위반</td>\n",
       "      <td>제한속도 위반(20KM 초과시)</td>\n",
       "      <td>교차로</td>\n",
       "      <td>교차로내</td>\n",
       "      <td>승합차</td>\n",
       "      <td>대형</td>\n",
       "      <td>승용차</td>\n",
       "      <td>소형</td>\n",
       "      <td>2</td>\n",
       "    </tr>\n",
       "    <tr>\n",
       "      <th>4</th>\n",
       "      <td>2012</td>\n",
       "      <td>2012010103</td>\n",
       "      <td>30</td>\n",
       "      <td>야간</td>\n",
       "      <td>일</td>\n",
       "      <td>1</td>\n",
       "      <td>1</td>\n",
       "      <td>0</td>\n",
       "      <td>0</td>\n",
       "      <td>0</td>\n",
       "      <td>...</td>\n",
       "      <td>도로이탈 추락</td>\n",
       "      <td>운전자법규위반</td>\n",
       "      <td>안전운전 의무 불이행</td>\n",
       "      <td>단일로</td>\n",
       "      <td>기타단일로</td>\n",
       "      <td>승용차</td>\n",
       "      <td>중형</td>\n",
       "      <td>없음</td>\n",
       "      <td>없음</td>\n",
       "      <td>1</td>\n",
       "    </tr>\n",
       "  </tbody>\n",
       "</table>\n",
       "<p>5 rows × 24 columns</p>\n",
       "</div>"
      ],
      "text/plain": [
       "    발생년      발생년월일시  발생분  주야 요일  사망자수  사상자수  중상자수  경상자수  부상신고자수  ...     사고유형  \\\n",
       "0  2012  2012010101   50  야간  일     1     1     0     0       0  ...    차도통행중   \n",
       "1  2012  2012010101    5  야간  일     1     6     5     0       0  ...     정면충돌   \n",
       "2  2012  2012010108   50  주간  일     1     1     0     0       0  ...    공작물충돌   \n",
       "3  2012  2012010110   25  주간  일     2     2     0     0       0  ...     측면충돌   \n",
       "4  2012  2012010103   30  야간  일     1     1     0     0       0  ...  도로이탈 추락   \n",
       "\n",
       "  법규위반_대분류               법규위반 도로형태_대분류   도로형태 당사자종별_1당_대분류 당사자종별_1당  \\\n",
       "0  운전자법규위반        안전운전 의무 불이행      단일로  기타단일로          승용차       중형   \n",
       "1  운전자법규위반             중앙선 침범      단일로  기타단일로          승용차       중형   \n",
       "2  운전자법규위반        안전운전 의무 불이행      단일로  기타단일로          승용차       소형   \n",
       "3  운전자법규위반  제한속도 위반(20KM 초과시)      교차로   교차로내          승합차       대형   \n",
       "4  운전자법규위반        안전운전 의무 불이행      단일로  기타단일로          승용차       중형   \n",
       "\n",
       "  당사자종별_2당_대분류 당사자종별_2당 사상자분류  \n",
       "0          보행자      보행자     1  \n",
       "1          승용차       소형     3  \n",
       "2           없음       없음     1  \n",
       "3          승용차       소형     2  \n",
       "4           없음       없음     1  \n",
       "\n",
       "[5 rows x 24 columns]"
      ]
     },
     "execution_count": 16,
     "metadata": {},
     "output_type": "execute_result"
    }
   ],
   "source": [
    "data.head()"
   ]
  },
  {
   "cell_type": "markdown",
   "metadata": {},
   "source": [
    "### 사고 유형 대분류의 분포"
   ]
  },
  {
   "cell_type": "code",
   "execution_count": 17,
   "metadata": {
    "ExecuteTime": {
     "end_time": "2020-08-09T11:14:55.538961Z",
     "start_time": "2020-08-09T11:14:55.511963Z"
    },
    "scrolled": true
   },
   "outputs": [
    {
     "data": {
      "text/plain": [
       "차대차      13484\n",
       "차대사람     13367\n",
       "차량단독      7285\n",
       "철길건널목        9\n",
       "Name: 사고유형_대분류, dtype: int64"
      ]
     },
     "execution_count": 17,
     "metadata": {},
     "output_type": "execute_result"
    }
   ],
   "source": [
    "data['사고유형_대분류'].value_counts()"
   ]
  },
  {
   "cell_type": "code",
   "execution_count": 18,
   "metadata": {
    "ExecuteTime": {
     "end_time": "2020-08-09T11:14:55.570963Z",
     "start_time": "2020-08-09T11:14:55.544966Z"
    }
   },
   "outputs": [
    {
     "data": {
      "text/plain": [
       "array(['차대사람', '차대차', '차량단독', '철길건널목'], dtype=object)"
      ]
     },
     "execution_count": 18,
     "metadata": {},
     "output_type": "execute_result"
    }
   ],
   "source": [
    "data.사고유형_대분류.unique()"
   ]
  },
  {
   "cell_type": "markdown",
   "metadata": {},
   "source": [
    "차대사람, 차대차, 차량단독, 철길건널목 총 4개의 데이터가 있었습니다. 비율은 어떠할까요?"
   ]
  },
  {
   "cell_type": "code",
   "execution_count": 19,
   "metadata": {
    "ExecuteTime": {
     "end_time": "2020-08-09T11:14:56.392997Z",
     "start_time": "2020-08-09T11:14:55.576963Z"
    },
    "scrolled": true
   },
   "outputs": [
    {
     "data": {
      "text/plain": [
       "Text(0.5, 1.0, '전체 사고의 사고유형_대분류별 분류')"
      ]
     },
     "execution_count": 19,
     "metadata": {},
     "output_type": "execute_result"
    },
    {
     "name": "stderr",
     "output_type": "stream",
     "text": [
      "findfont: Font family ['NanumSquare'] not found. Falling back to DejaVu Sans.\n",
      "findfont: Font family ['NanumSquare'] not found. Falling back to DejaVu Sans.\n",
      "findfont: Font family ['NanumSquare'] not found. Falling back to DejaVu Sans.\n"
     ]
    },
    {
     "data": {
      "image/png": "[encoded data removed]",
      "text/plain": [
       "<Figure size 1296x576 with 2 Axes>"
      ]
     },
     "metadata": {
      "needs_background": "light"
     },
     "output_type": "display_data"
    }
   ],
   "source": [
    "f,ax=plt.subplots(1,2,figsize=(18,8))\n",
    "labels = list(data.사고유형_대분류.unique())\n",
    "#data['사고유형_대분류'].value_counts().plot.pie(explode=[0,0.1],autopct='%1.1f%%',ax=ax[0],shadow=True)\n",
    "data['사고유형_대분류'].value_counts().plot.pie(autopct='%1.1f%%', labels=labels,ax=ax[0],shadow=True)\n",
    "\n",
    "#data['사고유형_대분류'].value_counts().plot\n",
    "data['사고유형_대분류'].value_counts().plot.bar(ax=ax[1])\n",
    "ax[0].set_title('전체 사고의 사고유형_대분류별 분류')\n"
   ]
  },
  {
   "cell_type": "markdown",
   "metadata": {},
   "source": [
    "#### 너무 적은 데이터 철길건널목 삭제"
   ]
  },
  {
   "cell_type": "code",
   "execution_count": 20,
   "metadata": {
    "ExecuteTime": {
     "end_time": "2020-08-09T11:14:56.425979Z",
     "start_time": "2020-08-09T11:14:56.399971Z"
    }
   },
   "outputs": [
    {
     "data": {
      "text/plain": [
       "Int64Index([385, 3402, 6228, 8850, 18705, 24726, 27680, 29864, 32554], dtype='int64')"
      ]
     },
     "execution_count": 20,
     "metadata": {},
     "output_type": "execute_result"
    }
   ],
   "source": [
    "idx_numbers = data[data['사고유형_대분류'] == '철길건널목'].index\n",
    "\n",
    "idx_numbers "
   ]
  },
  {
   "cell_type": "code",
   "execution_count": 21,
   "metadata": {
    "ExecuteTime": {
     "end_time": "2020-08-09T11:14:56.456964Z",
     "start_time": "2020-08-09T11:14:56.430966Z"
    },
    "scrolled": true
   },
   "outputs": [],
   "source": [
    "data = data.drop(idx_numbers)"
   ]
  },
  {
   "cell_type": "code",
   "execution_count": 22,
   "metadata": {
    "ExecuteTime": {
     "end_time": "2020-08-09T11:14:56.503958Z",
     "start_time": "2020-08-09T11:14:56.462965Z"
    },
    "scrolled": true
   },
   "outputs": [
    {
     "data": {
      "text/plain": [
       "차대차     13484\n",
       "차대사람    13367\n",
       "차량단독     7285\n",
       "Name: 사고유형_대분류, dtype: int64"
      ]
     },
     "execution_count": 22,
     "metadata": {},
     "output_type": "execute_result"
    }
   ],
   "source": [
    "data['사고유형_대분류'].value_counts()"
   ]
  },
  {
   "cell_type": "markdown",
   "metadata": {},
   "source": [
    "### 사상자 분류 에 따른 사고유형_대분류"
   ]
  },
  {
   "cell_type": "code",
   "execution_count": 23,
   "metadata": {
    "ExecuteTime": {
     "end_time": "2020-08-09T11:14:56.551970Z",
     "start_time": "2020-08-09T11:14:56.513964Z"
    },
    "scrolled": false
   },
   "outputs": [
    {
     "data": {
      "text/plain": [
       "사고유형_대분류\n",
       "차대사람    12341\n",
       "차대차      7214\n",
       "차량단독     5723\n",
       "Name: 사고유형_대분류, dtype: int64"
      ]
     },
     "execution_count": 23,
     "metadata": {},
     "output_type": "execute_result"
    }
   ],
   "source": [
    "data[data['사상자분류']==1].groupby(['사고유형_대분류'])['사고유형_대분류'].count()"
   ]
  },
  {
   "cell_type": "code",
   "execution_count": 24,
   "metadata": {
    "ExecuteTime": {
     "end_time": "2020-08-09T11:14:57.185962Z",
     "start_time": "2020-08-09T11:14:56.567968Z"
    }
   },
   "outputs": [
    {
     "data": {
      "text/plain": [
       "Text(0.5, 1.0, '전체 사고의 사고유형_대분류별 분류')"
      ]
     },
     "execution_count": 24,
     "metadata": {},
     "output_type": "execute_result"
    },
    {
     "data": {
      "image/png": "[encoded data removed]",
      "text/plain": [
       "<Figure size 1296x576 with 2 Axes>"
      ]
     },
     "metadata": {
      "needs_background": "light"
     },
     "output_type": "display_data"
    }
   ],
   "source": [
    "f,ax=plt.subplots(1,2,figsize=(18,8))\n",
    "labels = list(data.사고유형_대분류.unique())\n",
    "#data['사고유형_대분류'].value_counts().plot.pie(explode=[0,0.1],autopct='%1.1f%%',ax=ax[0],shadow=True)\n",
    "data[data['사상자분류']==1].groupby(['사고유형_대분류'])['사고유형_대분류'].count().plot.pie(autopct='%1.1f%%', labels=labels,ax=ax[0],shadow=True)\n",
    "\n",
    "#data['사고유형_대분류'].value_counts().plot\n",
    "data[data['사상자분류']==1].groupby(['사고유형_대분류'])['사고유형_대분류'].count().plot.bar(ax=ax[1])\n",
    "ax[0].set_title('전체 사고의 사고유형_대분류별 분류')\n"
   ]
  },
  {
   "cell_type": "code",
   "execution_count": 25,
   "metadata": {
    "ExecuteTime": {
     "end_time": "2020-08-09T11:14:57.217965Z",
     "start_time": "2020-08-09T11:14:57.191963Z"
    },
    "scrolled": true
   },
   "outputs": [
    {
     "data": {
      "text/plain": [
       "사고유형_대분류\n",
       "차대사람     745\n",
       "차대차     3063\n",
       "차량단독     963\n",
       "Name: 사고유형_대분류, dtype: int64"
      ]
     },
     "execution_count": 25,
     "metadata": {},
     "output_type": "execute_result"
    }
   ],
   "source": [
    "data[data['사상자분류']==2].groupby(['사고유형_대분류'])['사고유형_대분류'].count()"
   ]
  },
  {
   "cell_type": "code",
   "execution_count": 26,
   "metadata": {
    "ExecuteTime": {
     "end_time": "2020-08-09T11:14:57.263964Z",
     "start_time": "2020-08-09T11:14:57.222970Z"
    },
    "scrolled": true
   },
   "outputs": [
    {
     "data": {
      "text/plain": [
       "사고유형_대분류\n",
       "차대사람     281\n",
       "차대차     3207\n",
       "차량단독     599\n",
       "Name: 사고유형_대분류, dtype: int64"
      ]
     },
     "execution_count": 26,
     "metadata": {},
     "output_type": "execute_result"
    }
   ],
   "source": [
    "data[data['사상자분류']==3].groupby(['사고유형_대분류'])['사고유형_대분류'].count()"
   ]
  },
  {
   "cell_type": "markdown",
   "metadata": {},
   "source": [
    "차대사람분류가 사상자 1명인 케이스에서 제일 많았습니다. 그리고 사상자분류가 1,2인 케이스에서 차대차 분류가 가장 많았습니다."
   ]
  },
  {
   "cell_type": "markdown",
   "metadata": {},
   "source": [
    "### 사고유형 대분류 별 평균 사상자수"
   ]
  },
  {
   "cell_type": "code",
   "execution_count": 27,
   "metadata": {
    "ExecuteTime": {
     "end_time": "2020-08-09T11:14:57.311969Z",
     "start_time": "2020-08-09T11:14:57.268969Z"
    },
    "scrolled": false
   },
   "outputs": [
    {
     "data": {
      "text/html": [
       "<div>\n",
       "<style scoped>\n",
       "    .dataframe tbody tr th:only-of-type {\n",
       "        vertical-align: middle;\n",
       "    }\n",
       "\n",
       "    .dataframe tbody tr th {\n",
       "        vertical-align: top;\n",
       "    }\n",
       "\n",
       "    .dataframe thead th {\n",
       "        text-align: right;\n",
       "    }\n",
       "</style>\n",
       "<table border=\"1\" class=\"dataframe\">\n",
       "  <thead>\n",
       "    <tr style=\"text-align: right;\">\n",
       "      <th></th>\n",
       "      <th>사상자수</th>\n",
       "    </tr>\n",
       "    <tr>\n",
       "      <th>사고유형_대분류</th>\n",
       "      <th></th>\n",
       "    </tr>\n",
       "  </thead>\n",
       "  <tbody>\n",
       "    <tr>\n",
       "      <th>차대사람</th>\n",
       "      <td>1.117453</td>\n",
       "    </tr>\n",
       "    <tr>\n",
       "      <th>차대차</th>\n",
       "      <td>2.201053</td>\n",
       "    </tr>\n",
       "    <tr>\n",
       "      <th>차량단독</th>\n",
       "      <td>1.414825</td>\n",
       "    </tr>\n",
       "  </tbody>\n",
       "</table>\n",
       "</div>"
      ],
      "text/plain": [
       "              사상자수\n",
       "사고유형_대분류          \n",
       "차대사람      1.117453\n",
       "차대차       2.201053\n",
       "차량단독      1.414825"
      ]
     },
     "execution_count": 27,
     "metadata": {},
     "output_type": "execute_result"
    }
   ],
   "source": [
    "data[['사상자수','사고유형_대분류']].groupby(['사고유형_대분류']).mean()"
   ]
  },
  {
   "cell_type": "code",
   "execution_count": 28,
   "metadata": {
    "ExecuteTime": {
     "end_time": "2020-08-09T11:14:58.026962Z",
     "start_time": "2020-08-09T11:14:57.315967Z"
    }
   },
   "outputs": [
    {
     "data": {
      "text/plain": [
       "Text(0.5, 1.0, '사고유형_대분류별 분류에 따른 평균 사상자 수')"
      ]
     },
     "execution_count": 28,
     "metadata": {},
     "output_type": "execute_result"
    },
    {
     "data": {
      "image/png": "[encoded data removed]",
      "text/plain": [
       "<Figure size 1296x576 with 2 Axes>"
      ]
     },
     "metadata": {
      "needs_background": "light"
     },
     "output_type": "display_data"
    }
   ],
   "source": [
    "f,ax=plt.subplots(1,2,figsize=(18,8))\n",
    "labels = list(data.사고유형_대분류.unique())\n",
    "#data['사고유형_대분류'].value_counts().plot.pie(explode=[0,0.1],autopct='%1.1f%%',ax=ax[0],shadow=True)\n",
    "data[['사상자수','사고유형_대분류']].groupby(['사고유형_대분류']).mean().plot.pie(autopct='%1.1f%%', labels=labels,ax=ax[0],shadow=True, subplots=True)\n",
    "\n",
    "#data['사고유형_대분류'].value_counts().plot\n",
    "data[['사상자수','사고유형_대분류']].groupby(['사고유형_대분류']).mean().plot.bar(ax=ax[1])\n",
    "ax[0].set_title('사고유형_대분류별 분류에 따른 평균 사상자 수')\n"
   ]
  },
  {
   "cell_type": "markdown",
   "metadata": {
    "ExecuteTime": {
     "end_time": "2020-06-26T02:34:42.812503Z",
     "start_time": "2020-06-26T02:34:42.800536Z"
    }
   },
   "source": [
    "아, 차대차가 사상자 평균 값이 높구나를 알수 있었습니다."
   ]
  },
  {
   "cell_type": "code",
   "execution_count": null,
   "metadata": {
    "ExecuteTime": {
     "end_time": "2020-06-26T05:14:33.663924Z",
     "start_time": "2020-06-26T05:14:33.624032Z"
    }
   },
   "outputs": [],
   "source": []
  },
  {
   "cell_type": "markdown",
   "metadata": {},
   "source": [
    "### 주야에 따른 사상자 대분류"
   ]
  },
  {
   "cell_type": "code",
   "execution_count": 29,
   "metadata": {
    "ExecuteTime": {
     "end_time": "2020-08-09T11:14:58.089961Z",
     "start_time": "2020-08-09T11:14:58.031966Z"
    },
    "scrolled": true
   },
   "outputs": [
    {
     "data": {
      "text/html": [
       "<div>\n",
       "<style scoped>\n",
       "    .dataframe tbody tr th:only-of-type {\n",
       "        vertical-align: middle;\n",
       "    }\n",
       "\n",
       "    .dataframe tbody tr th {\n",
       "        vertical-align: top;\n",
       "    }\n",
       "\n",
       "    .dataframe thead th {\n",
       "        text-align: right;\n",
       "    }\n",
       "</style>\n",
       "<table border=\"1\" class=\"dataframe\">\n",
       "  <thead>\n",
       "    <tr style=\"text-align: right;\">\n",
       "      <th></th>\n",
       "      <th>발생년</th>\n",
       "      <th>발생년월일시</th>\n",
       "      <th>발생분</th>\n",
       "      <th>주야</th>\n",
       "      <th>요일</th>\n",
       "      <th>사망자수</th>\n",
       "      <th>사상자수</th>\n",
       "      <th>중상자수</th>\n",
       "      <th>경상자수</th>\n",
       "      <th>부상신고자수</th>\n",
       "      <th>...</th>\n",
       "      <th>사고유형</th>\n",
       "      <th>법규위반_대분류</th>\n",
       "      <th>법규위반</th>\n",
       "      <th>도로형태_대분류</th>\n",
       "      <th>도로형태</th>\n",
       "      <th>당사자종별_1당_대분류</th>\n",
       "      <th>당사자종별_1당</th>\n",
       "      <th>당사자종별_2당_대분류</th>\n",
       "      <th>당사자종별_2당</th>\n",
       "      <th>사상자분류</th>\n",
       "    </tr>\n",
       "  </thead>\n",
       "  <tbody>\n",
       "    <tr>\n",
       "      <th>0</th>\n",
       "      <td>2012</td>\n",
       "      <td>2012010101</td>\n",
       "      <td>50</td>\n",
       "      <td>야간</td>\n",
       "      <td>일</td>\n",
       "      <td>1</td>\n",
       "      <td>1</td>\n",
       "      <td>0</td>\n",
       "      <td>0</td>\n",
       "      <td>0</td>\n",
       "      <td>...</td>\n",
       "      <td>차도통행중</td>\n",
       "      <td>운전자법규위반</td>\n",
       "      <td>안전운전 의무 불이행</td>\n",
       "      <td>단일로</td>\n",
       "      <td>기타단일로</td>\n",
       "      <td>승용차</td>\n",
       "      <td>중형</td>\n",
       "      <td>보행자</td>\n",
       "      <td>보행자</td>\n",
       "      <td>1</td>\n",
       "    </tr>\n",
       "    <tr>\n",
       "      <th>1</th>\n",
       "      <td>2012</td>\n",
       "      <td>2012010101</td>\n",
       "      <td>5</td>\n",
       "      <td>야간</td>\n",
       "      <td>일</td>\n",
       "      <td>1</td>\n",
       "      <td>6</td>\n",
       "      <td>5</td>\n",
       "      <td>0</td>\n",
       "      <td>0</td>\n",
       "      <td>...</td>\n",
       "      <td>정면충돌</td>\n",
       "      <td>운전자법규위반</td>\n",
       "      <td>중앙선 침범</td>\n",
       "      <td>단일로</td>\n",
       "      <td>기타단일로</td>\n",
       "      <td>승용차</td>\n",
       "      <td>중형</td>\n",
       "      <td>승용차</td>\n",
       "      <td>소형</td>\n",
       "      <td>3</td>\n",
       "    </tr>\n",
       "    <tr>\n",
       "      <th>2</th>\n",
       "      <td>2012</td>\n",
       "      <td>2012010108</td>\n",
       "      <td>50</td>\n",
       "      <td>주간</td>\n",
       "      <td>일</td>\n",
       "      <td>1</td>\n",
       "      <td>1</td>\n",
       "      <td>0</td>\n",
       "      <td>0</td>\n",
       "      <td>0</td>\n",
       "      <td>...</td>\n",
       "      <td>공작물충돌</td>\n",
       "      <td>운전자법규위반</td>\n",
       "      <td>안전운전 의무 불이행</td>\n",
       "      <td>단일로</td>\n",
       "      <td>기타단일로</td>\n",
       "      <td>승용차</td>\n",
       "      <td>소형</td>\n",
       "      <td>없음</td>\n",
       "      <td>없음</td>\n",
       "      <td>1</td>\n",
       "    </tr>\n",
       "    <tr>\n",
       "      <th>3</th>\n",
       "      <td>2012</td>\n",
       "      <td>2012010110</td>\n",
       "      <td>25</td>\n",
       "      <td>주간</td>\n",
       "      <td>일</td>\n",
       "      <td>2</td>\n",
       "      <td>2</td>\n",
       "      <td>0</td>\n",
       "      <td>0</td>\n",
       "      <td>0</td>\n",
       "      <td>...</td>\n",
       "      <td>측면충돌</td>\n",
       "      <td>운전자법규위반</td>\n",
       "      <td>제한속도 위반(20KM 초과시)</td>\n",
       "      <td>교차로</td>\n",
       "      <td>교차로내</td>\n",
       "      <td>승합차</td>\n",
       "      <td>대형</td>\n",
       "      <td>승용차</td>\n",
       "      <td>소형</td>\n",
       "      <td>2</td>\n",
       "    </tr>\n",
       "    <tr>\n",
       "      <th>4</th>\n",
       "      <td>2012</td>\n",
       "      <td>2012010103</td>\n",
       "      <td>30</td>\n",
       "      <td>야간</td>\n",
       "      <td>일</td>\n",
       "      <td>1</td>\n",
       "      <td>1</td>\n",
       "      <td>0</td>\n",
       "      <td>0</td>\n",
       "      <td>0</td>\n",
       "      <td>...</td>\n",
       "      <td>도로이탈 추락</td>\n",
       "      <td>운전자법규위반</td>\n",
       "      <td>안전운전 의무 불이행</td>\n",
       "      <td>단일로</td>\n",
       "      <td>기타단일로</td>\n",
       "      <td>승용차</td>\n",
       "      <td>중형</td>\n",
       "      <td>없음</td>\n",
       "      <td>없음</td>\n",
       "      <td>1</td>\n",
       "    </tr>\n",
       "  </tbody>\n",
       "</table>\n",
       "<p>5 rows × 24 columns</p>\n",
       "</div>"
      ],
      "text/plain": [
       "    발생년      발생년월일시  발생분  주야 요일  사망자수  사상자수  중상자수  경상자수  부상신고자수  ...     사고유형  \\\n",
       "0  2012  2012010101   50  야간  일     1     1     0     0       0  ...    차도통행중   \n",
       "1  2012  2012010101    5  야간  일     1     6     5     0       0  ...     정면충돌   \n",
       "2  2012  2012010108   50  주간  일     1     1     0     0       0  ...    공작물충돌   \n",
       "3  2012  2012010110   25  주간  일     2     2     0     0       0  ...     측면충돌   \n",
       "4  2012  2012010103   30  야간  일     1     1     0     0       0  ...  도로이탈 추락   \n",
       "\n",
       "  법규위반_대분류               법규위반 도로형태_대분류   도로형태 당사자종별_1당_대분류 당사자종별_1당  \\\n",
       "0  운전자법규위반        안전운전 의무 불이행      단일로  기타단일로          승용차       중형   \n",
       "1  운전자법규위반             중앙선 침범      단일로  기타단일로          승용차       중형   \n",
       "2  운전자법규위반        안전운전 의무 불이행      단일로  기타단일로          승용차       소형   \n",
       "3  운전자법규위반  제한속도 위반(20KM 초과시)      교차로   교차로내          승합차       대형   \n",
       "4  운전자법규위반        안전운전 의무 불이행      단일로  기타단일로          승용차       중형   \n",
       "\n",
       "  당사자종별_2당_대분류 당사자종별_2당 사상자분류  \n",
       "0          보행자      보행자     1  \n",
       "1          승용차       소형     3  \n",
       "2           없음       없음     1  \n",
       "3          승용차       소형     2  \n",
       "4           없음       없음     1  \n",
       "\n",
       "[5 rows x 24 columns]"
      ]
     },
     "execution_count": 29,
     "metadata": {},
     "output_type": "execute_result"
    }
   ],
   "source": [
    "data.head()"
   ]
  },
  {
   "cell_type": "code",
   "execution_count": 30,
   "metadata": {
    "ExecuteTime": {
     "end_time": "2020-08-09T11:14:58.121964Z",
     "start_time": "2020-08-09T11:14:58.096966Z"
    }
   },
   "outputs": [],
   "source": [
    "data['주야분류']=data['주야']"
   ]
  },
  {
   "cell_type": "code",
   "execution_count": 31,
   "metadata": {
    "ExecuteTime": {
     "end_time": "2020-08-09T11:14:58.152966Z",
     "start_time": "2020-08-09T11:14:58.128965Z"
    },
    "scrolled": false
   },
   "outputs": [
    {
     "data": {
      "text/plain": [
       "야간    17381\n",
       "주간    16755\n",
       "Name: 주야분류, dtype: int64"
      ]
     },
     "execution_count": 31,
     "metadata": {},
     "output_type": "execute_result"
    }
   ],
   "source": [
    "data['주야분류'].value_counts()"
   ]
  },
  {
   "cell_type": "code",
   "execution_count": 32,
   "metadata": {
    "ExecuteTime": {
     "end_time": "2020-08-09T11:14:58.200961Z",
     "start_time": "2020-08-09T11:14:58.158966Z"
    }
   },
   "outputs": [],
   "source": [
    "data.loc[data['주야분류']=='주간', '주야분류'] =0"
   ]
  },
  {
   "cell_type": "code",
   "execution_count": 33,
   "metadata": {
    "ExecuteTime": {
     "end_time": "2020-08-09T11:14:58.231961Z",
     "start_time": "2020-08-09T11:14:58.206966Z"
    }
   },
   "outputs": [],
   "source": [
    "data.loc[data['주야분류']=='야간', '주야분류'] =1"
   ]
  },
  {
   "cell_type": "code",
   "execution_count": 34,
   "metadata": {
    "ExecuteTime": {
     "end_time": "2020-08-09T11:14:58.310962Z",
     "start_time": "2020-08-09T11:14:58.236973Z"
    },
    "scrolled": true
   },
   "outputs": [
    {
     "data": {
      "text/html": [
       "<div>\n",
       "<style scoped>\n",
       "    .dataframe tbody tr th:only-of-type {\n",
       "        vertical-align: middle;\n",
       "    }\n",
       "\n",
       "    .dataframe tbody tr th {\n",
       "        vertical-align: top;\n",
       "    }\n",
       "\n",
       "    .dataframe thead th {\n",
       "        text-align: right;\n",
       "    }\n",
       "</style>\n",
       "<table border=\"1\" class=\"dataframe\">\n",
       "  <thead>\n",
       "    <tr style=\"text-align: right;\">\n",
       "      <th></th>\n",
       "      <th>발생년</th>\n",
       "      <th>발생년월일시</th>\n",
       "      <th>발생분</th>\n",
       "      <th>주야</th>\n",
       "      <th>요일</th>\n",
       "      <th>사망자수</th>\n",
       "      <th>사상자수</th>\n",
       "      <th>중상자수</th>\n",
       "      <th>경상자수</th>\n",
       "      <th>부상신고자수</th>\n",
       "      <th>...</th>\n",
       "      <th>법규위반_대분류</th>\n",
       "      <th>법규위반</th>\n",
       "      <th>도로형태_대분류</th>\n",
       "      <th>도로형태</th>\n",
       "      <th>당사자종별_1당_대분류</th>\n",
       "      <th>당사자종별_1당</th>\n",
       "      <th>당사자종별_2당_대분류</th>\n",
       "      <th>당사자종별_2당</th>\n",
       "      <th>사상자분류</th>\n",
       "      <th>주야분류</th>\n",
       "    </tr>\n",
       "  </thead>\n",
       "  <tbody>\n",
       "    <tr>\n",
       "      <th>0</th>\n",
       "      <td>2012</td>\n",
       "      <td>2012010101</td>\n",
       "      <td>50</td>\n",
       "      <td>야간</td>\n",
       "      <td>일</td>\n",
       "      <td>1</td>\n",
       "      <td>1</td>\n",
       "      <td>0</td>\n",
       "      <td>0</td>\n",
       "      <td>0</td>\n",
       "      <td>...</td>\n",
       "      <td>운전자법규위반</td>\n",
       "      <td>안전운전 의무 불이행</td>\n",
       "      <td>단일로</td>\n",
       "      <td>기타단일로</td>\n",
       "      <td>승용차</td>\n",
       "      <td>중형</td>\n",
       "      <td>보행자</td>\n",
       "      <td>보행자</td>\n",
       "      <td>1</td>\n",
       "      <td>1</td>\n",
       "    </tr>\n",
       "    <tr>\n",
       "      <th>1</th>\n",
       "      <td>2012</td>\n",
       "      <td>2012010101</td>\n",
       "      <td>5</td>\n",
       "      <td>야간</td>\n",
       "      <td>일</td>\n",
       "      <td>1</td>\n",
       "      <td>6</td>\n",
       "      <td>5</td>\n",
       "      <td>0</td>\n",
       "      <td>0</td>\n",
       "      <td>...</td>\n",
       "      <td>운전자법규위반</td>\n",
       "      <td>중앙선 침범</td>\n",
       "      <td>단일로</td>\n",
       "      <td>기타단일로</td>\n",
       "      <td>승용차</td>\n",
       "      <td>중형</td>\n",
       "      <td>승용차</td>\n",
       "      <td>소형</td>\n",
       "      <td>3</td>\n",
       "      <td>1</td>\n",
       "    </tr>\n",
       "    <tr>\n",
       "      <th>2</th>\n",
       "      <td>2012</td>\n",
       "      <td>2012010108</td>\n",
       "      <td>50</td>\n",
       "      <td>주간</td>\n",
       "      <td>일</td>\n",
       "      <td>1</td>\n",
       "      <td>1</td>\n",
       "      <td>0</td>\n",
       "      <td>0</td>\n",
       "      <td>0</td>\n",
       "      <td>...</td>\n",
       "      <td>운전자법규위반</td>\n",
       "      <td>안전운전 의무 불이행</td>\n",
       "      <td>단일로</td>\n",
       "      <td>기타단일로</td>\n",
       "      <td>승용차</td>\n",
       "      <td>소형</td>\n",
       "      <td>없음</td>\n",
       "      <td>없음</td>\n",
       "      <td>1</td>\n",
       "      <td>0</td>\n",
       "    </tr>\n",
       "    <tr>\n",
       "      <th>3</th>\n",
       "      <td>2012</td>\n",
       "      <td>2012010110</td>\n",
       "      <td>25</td>\n",
       "      <td>주간</td>\n",
       "      <td>일</td>\n",
       "      <td>2</td>\n",
       "      <td>2</td>\n",
       "      <td>0</td>\n",
       "      <td>0</td>\n",
       "      <td>0</td>\n",
       "      <td>...</td>\n",
       "      <td>운전자법규위반</td>\n",
       "      <td>제한속도 위반(20KM 초과시)</td>\n",
       "      <td>교차로</td>\n",
       "      <td>교차로내</td>\n",
       "      <td>승합차</td>\n",
       "      <td>대형</td>\n",
       "      <td>승용차</td>\n",
       "      <td>소형</td>\n",
       "      <td>2</td>\n",
       "      <td>0</td>\n",
       "    </tr>\n",
       "    <tr>\n",
       "      <th>4</th>\n",
       "      <td>2012</td>\n",
       "      <td>2012010103</td>\n",
       "      <td>30</td>\n",
       "      <td>야간</td>\n",
       "      <td>일</td>\n",
       "      <td>1</td>\n",
       "      <td>1</td>\n",
       "      <td>0</td>\n",
       "      <td>0</td>\n",
       "      <td>0</td>\n",
       "      <td>...</td>\n",
       "      <td>운전자법규위반</td>\n",
       "      <td>안전운전 의무 불이행</td>\n",
       "      <td>단일로</td>\n",
       "      <td>기타단일로</td>\n",
       "      <td>승용차</td>\n",
       "      <td>중형</td>\n",
       "      <td>없음</td>\n",
       "      <td>없음</td>\n",
       "      <td>1</td>\n",
       "      <td>1</td>\n",
       "    </tr>\n",
       "  </tbody>\n",
       "</table>\n",
       "<p>5 rows × 25 columns</p>\n",
       "</div>"
      ],
      "text/plain": [
       "    발생년      발생년월일시  발생분  주야 요일  사망자수  사상자수  중상자수  경상자수  부상신고자수  ... 법규위반_대분류  \\\n",
       "0  2012  2012010101   50  야간  일     1     1     0     0       0  ...  운전자법규위반   \n",
       "1  2012  2012010101    5  야간  일     1     6     5     0       0  ...  운전자법규위반   \n",
       "2  2012  2012010108   50  주간  일     1     1     0     0       0  ...  운전자법규위반   \n",
       "3  2012  2012010110   25  주간  일     2     2     0     0       0  ...  운전자법규위반   \n",
       "4  2012  2012010103   30  야간  일     1     1     0     0       0  ...  운전자법규위반   \n",
       "\n",
       "                법규위반 도로형태_대분류   도로형태 당사자종별_1당_대분류 당사자종별_1당 당사자종별_2당_대분류  \\\n",
       "0        안전운전 의무 불이행      단일로  기타단일로          승용차       중형          보행자   \n",
       "1             중앙선 침범      단일로  기타단일로          승용차       중형          승용차   \n",
       "2        안전운전 의무 불이행      단일로  기타단일로          승용차       소형           없음   \n",
       "3  제한속도 위반(20KM 초과시)      교차로   교차로내          승합차       대형          승용차   \n",
       "4        안전운전 의무 불이행      단일로  기타단일로          승용차       중형           없음   \n",
       "\n",
       "  당사자종별_2당 사상자분류 주야분류  \n",
       "0      보행자     1    1  \n",
       "1       소형     3    1  \n",
       "2       없음     1    0  \n",
       "3       소형     2    0  \n",
       "4       없음     1    1  \n",
       "\n",
       "[5 rows x 25 columns]"
      ]
     },
     "execution_count": 34,
     "metadata": {},
     "output_type": "execute_result"
    }
   ],
   "source": [
    "data.head()"
   ]
  },
  {
   "cell_type": "code",
   "execution_count": 35,
   "metadata": {
    "ExecuteTime": {
     "end_time": "2020-08-09T11:14:58.357961Z",
     "start_time": "2020-08-09T11:14:58.316975Z"
    },
    "scrolled": false
   },
   "outputs": [
    {
     "data": {
      "text/plain": [
       "사고유형_대분류\n",
       "차대사람    5158\n",
       "차대차     7818\n",
       "차량단독    3779\n",
       "Name: 사고유형_대분류, dtype: int64"
      ]
     },
     "execution_count": 35,
     "metadata": {},
     "output_type": "execute_result"
    }
   ],
   "source": [
    "data[data['주야분류']==0].groupby(['사고유형_대분류'])['사고유형_대분류'].count()"
   ]
  },
  {
   "cell_type": "markdown",
   "metadata": {},
   "source": [
    "주간에는 차대차 사고 비율이 많았습니다."
   ]
  },
  {
   "cell_type": "code",
   "execution_count": 36,
   "metadata": {
    "ExecuteTime": {
     "end_time": "2020-08-09T11:14:58.404959Z",
     "start_time": "2020-08-09T11:14:58.362966Z"
    },
    "scrolled": true
   },
   "outputs": [
    {
     "data": {
      "text/plain": [
       "사고유형_대분류\n",
       "차대사람    8209\n",
       "차대차     5666\n",
       "차량단독    3506\n",
       "Name: 사고유형_대분류, dtype: int64"
      ]
     },
     "execution_count": 36,
     "metadata": {},
     "output_type": "execute_result"
    }
   ],
   "source": [
    "data[data['주야분류']==1].groupby(['사고유형_대분류'])['사고유형_대분류'].count()"
   ]
  },
  {
   "cell_type": "markdown",
   "metadata": {},
   "source": [
    "야간에는  차대사람 사고 비율이 높았습니다."
   ]
  },
  {
   "cell_type": "code",
   "execution_count": 37,
   "metadata": {
    "ExecuteTime": {
     "end_time": "2020-08-09T11:14:58.832965Z",
     "start_time": "2020-08-09T11:14:58.410965Z"
    },
    "scrolled": true
   },
   "outputs": [
    {
     "data": {
      "text/plain": [
       "Text(0.5, 1.0, '야간 사고의 사고유형_대분류별 분류')"
      ]
     },
     "execution_count": 37,
     "metadata": {},
     "output_type": "execute_result"
    },
    {
     "data": {
      "image/png": "[encoded data removed]",
      "text/plain": [
       "<Figure size 1296x576 with 2 Axes>"
      ]
     },
     "metadata": {},
     "output_type": "display_data"
    }
   ],
   "source": [
    "f,ax=plt.subplots(1,2,figsize=(18,8))\n",
    "labels = list(data.사고유형_대분류.unique())\n",
    "#data['사고유형_대분류'].value_counts().plot.pie(explode=[0,0.1],autopct='%1.1f%%',ax=ax[0],shadow=True)\n",
    "data[data['주야분류']==0].groupby(['사고유형_대분류'])['사고유형_대분류'].count().plot.pie(autopct='%1.1f%%', labels=labels,ax=ax[0],shadow=True)\n",
    "\n",
    "#data['사고유형_대분류'].value_counts().plot\n",
    "data[data['주야분류']==1].groupby(['사고유형_대분류'])['사고유형_대분류'].count().plot.pie(autopct='%1.1f%%', labels=labels,ax=ax[1],shadow=True)\n",
    "ax[0].set_title('주간 사고의 사고유형_대분류별 분류')\n",
    "ax[1].set_title('야간 사고의 사고유형_대분류별 분류')\n"
   ]
  },
  {
   "cell_type": "markdown",
   "metadata": {},
   "source": [
    "주간에는 차대차, 야간에는 차대사람 사고의 비율이 제일 컸습니다."
   ]
  },
  {
   "cell_type": "markdown",
   "metadata": {},
   "source": [
    "### 요일에 따른 사상자 대분류 - 의미 없음."
   ]
  },
  {
   "cell_type": "code",
   "execution_count": 38,
   "metadata": {
    "ExecuteTime": {
     "end_time": "2020-08-09T11:14:58.879965Z",
     "start_time": "2020-08-09T11:14:58.840968Z"
    },
    "scrolled": true
   },
   "outputs": [
    {
     "data": {
      "text/plain": [
       "금    5121\n",
       "월    5033\n",
       "토    5027\n",
       "화    4982\n",
       "목    4878\n",
       "수    4835\n",
       "일    4260\n",
       "Name: 요일, dtype: int64"
      ]
     },
     "execution_count": 38,
     "metadata": {},
     "output_type": "execute_result"
    }
   ],
   "source": [
    "data['요일'].value_counts()"
   ]
  },
  {
   "cell_type": "code",
   "execution_count": 39,
   "metadata": {
    "ExecuteTime": {
     "end_time": "2020-08-09T11:14:58.910966Z",
     "start_time": "2020-08-09T11:14:58.884963Z"
    }
   },
   "outputs": [
    {
     "data": {
      "text/plain": [
       "[0, 1, 2, 3, 4, 5, 6]"
      ]
     },
     "execution_count": 39,
     "metadata": {},
     "output_type": "execute_result"
    }
   ],
   "source": [
    "oneTosevenList= list(range(7))\n",
    "oneTosevenList"
   ]
  },
  {
   "cell_type": "code",
   "execution_count": 40,
   "metadata": {
    "ExecuteTime": {
     "end_time": "2020-08-09T11:14:58.974962Z",
     "start_time": "2020-08-09T11:14:58.915968Z"
    }
   },
   "outputs": [],
   "source": [
    "data['요일'].replace(['일','월','화','수','목','금', '토'],oneTosevenList,inplace=True)"
   ]
  },
  {
   "cell_type": "code",
   "execution_count": 41,
   "metadata": {
    "ExecuteTime": {
     "end_time": "2020-08-09T11:14:59.054963Z",
     "start_time": "2020-08-09T11:14:58.980965Z"
    }
   },
   "outputs": [
    {
     "data": {
      "text/html": [
       "<div>\n",
       "<style scoped>\n",
       "    .dataframe tbody tr th:only-of-type {\n",
       "        vertical-align: middle;\n",
       "    }\n",
       "\n",
       "    .dataframe tbody tr th {\n",
       "        vertical-align: top;\n",
       "    }\n",
       "\n",
       "    .dataframe thead th {\n",
       "        text-align: right;\n",
       "    }\n",
       "</style>\n",
       "<table border=\"1\" class=\"dataframe\">\n",
       "  <thead>\n",
       "    <tr style=\"text-align: right;\">\n",
       "      <th></th>\n",
       "      <th>발생년</th>\n",
       "      <th>발생년월일시</th>\n",
       "      <th>발생분</th>\n",
       "      <th>주야</th>\n",
       "      <th>요일</th>\n",
       "      <th>사망자수</th>\n",
       "      <th>사상자수</th>\n",
       "      <th>중상자수</th>\n",
       "      <th>경상자수</th>\n",
       "      <th>부상신고자수</th>\n",
       "      <th>...</th>\n",
       "      <th>법규위반_대분류</th>\n",
       "      <th>법규위반</th>\n",
       "      <th>도로형태_대분류</th>\n",
       "      <th>도로형태</th>\n",
       "      <th>당사자종별_1당_대분류</th>\n",
       "      <th>당사자종별_1당</th>\n",
       "      <th>당사자종별_2당_대분류</th>\n",
       "      <th>당사자종별_2당</th>\n",
       "      <th>사상자분류</th>\n",
       "      <th>주야분류</th>\n",
       "    </tr>\n",
       "  </thead>\n",
       "  <tbody>\n",
       "    <tr>\n",
       "      <th>0</th>\n",
       "      <td>2012</td>\n",
       "      <td>2012010101</td>\n",
       "      <td>50</td>\n",
       "      <td>야간</td>\n",
       "      <td>0</td>\n",
       "      <td>1</td>\n",
       "      <td>1</td>\n",
       "      <td>0</td>\n",
       "      <td>0</td>\n",
       "      <td>0</td>\n",
       "      <td>...</td>\n",
       "      <td>운전자법규위반</td>\n",
       "      <td>안전운전 의무 불이행</td>\n",
       "      <td>단일로</td>\n",
       "      <td>기타단일로</td>\n",
       "      <td>승용차</td>\n",
       "      <td>중형</td>\n",
       "      <td>보행자</td>\n",
       "      <td>보행자</td>\n",
       "      <td>1</td>\n",
       "      <td>1</td>\n",
       "    </tr>\n",
       "    <tr>\n",
       "      <th>1</th>\n",
       "      <td>2012</td>\n",
       "      <td>2012010101</td>\n",
       "      <td>5</td>\n",
       "      <td>야간</td>\n",
       "      <td>0</td>\n",
       "      <td>1</td>\n",
       "      <td>6</td>\n",
       "      <td>5</td>\n",
       "      <td>0</td>\n",
       "      <td>0</td>\n",
       "      <td>...</td>\n",
       "      <td>운전자법규위반</td>\n",
       "      <td>중앙선 침범</td>\n",
       "      <td>단일로</td>\n",
       "      <td>기타단일로</td>\n",
       "      <td>승용차</td>\n",
       "      <td>중형</td>\n",
       "      <td>승용차</td>\n",
       "      <td>소형</td>\n",
       "      <td>3</td>\n",
       "      <td>1</td>\n",
       "    </tr>\n",
       "    <tr>\n",
       "      <th>2</th>\n",
       "      <td>2012</td>\n",
       "      <td>2012010108</td>\n",
       "      <td>50</td>\n",
       "      <td>주간</td>\n",
       "      <td>0</td>\n",
       "      <td>1</td>\n",
       "      <td>1</td>\n",
       "      <td>0</td>\n",
       "      <td>0</td>\n",
       "      <td>0</td>\n",
       "      <td>...</td>\n",
       "      <td>운전자법규위반</td>\n",
       "      <td>안전운전 의무 불이행</td>\n",
       "      <td>단일로</td>\n",
       "      <td>기타단일로</td>\n",
       "      <td>승용차</td>\n",
       "      <td>소형</td>\n",
       "      <td>없음</td>\n",
       "      <td>없음</td>\n",
       "      <td>1</td>\n",
       "      <td>0</td>\n",
       "    </tr>\n",
       "    <tr>\n",
       "      <th>3</th>\n",
       "      <td>2012</td>\n",
       "      <td>2012010110</td>\n",
       "      <td>25</td>\n",
       "      <td>주간</td>\n",
       "      <td>0</td>\n",
       "      <td>2</td>\n",
       "      <td>2</td>\n",
       "      <td>0</td>\n",
       "      <td>0</td>\n",
       "      <td>0</td>\n",
       "      <td>...</td>\n",
       "      <td>운전자법규위반</td>\n",
       "      <td>제한속도 위반(20KM 초과시)</td>\n",
       "      <td>교차로</td>\n",
       "      <td>교차로내</td>\n",
       "      <td>승합차</td>\n",
       "      <td>대형</td>\n",
       "      <td>승용차</td>\n",
       "      <td>소형</td>\n",
       "      <td>2</td>\n",
       "      <td>0</td>\n",
       "    </tr>\n",
       "    <tr>\n",
       "      <th>4</th>\n",
       "      <td>2012</td>\n",
       "      <td>2012010103</td>\n",
       "      <td>30</td>\n",
       "      <td>야간</td>\n",
       "      <td>0</td>\n",
       "      <td>1</td>\n",
       "      <td>1</td>\n",
       "      <td>0</td>\n",
       "      <td>0</td>\n",
       "      <td>0</td>\n",
       "      <td>...</td>\n",
       "      <td>운전자법규위반</td>\n",
       "      <td>안전운전 의무 불이행</td>\n",
       "      <td>단일로</td>\n",
       "      <td>기타단일로</td>\n",
       "      <td>승용차</td>\n",
       "      <td>중형</td>\n",
       "      <td>없음</td>\n",
       "      <td>없음</td>\n",
       "      <td>1</td>\n",
       "      <td>1</td>\n",
       "    </tr>\n",
       "  </tbody>\n",
       "</table>\n",
       "<p>5 rows × 25 columns</p>\n",
       "</div>"
      ],
      "text/plain": [
       "    발생년      발생년월일시  발생분  주야  요일  사망자수  사상자수  중상자수  경상자수  부상신고자수  ...  \\\n",
       "0  2012  2012010101   50  야간   0     1     1     0     0       0  ...   \n",
       "1  2012  2012010101    5  야간   0     1     6     5     0       0  ...   \n",
       "2  2012  2012010108   50  주간   0     1     1     0     0       0  ...   \n",
       "3  2012  2012010110   25  주간   0     2     2     0     0       0  ...   \n",
       "4  2012  2012010103   30  야간   0     1     1     0     0       0  ...   \n",
       "\n",
       "  법규위반_대분류               법규위반 도로형태_대분류   도로형태 당사자종별_1당_대분류 당사자종별_1당  \\\n",
       "0  운전자법규위반        안전운전 의무 불이행      단일로  기타단일로          승용차       중형   \n",
       "1  운전자법규위반             중앙선 침범      단일로  기타단일로          승용차       중형   \n",
       "2  운전자법규위반        안전운전 의무 불이행      단일로  기타단일로          승용차       소형   \n",
       "3  운전자법규위반  제한속도 위반(20KM 초과시)      교차로   교차로내          승합차       대형   \n",
       "4  운전자법규위반        안전운전 의무 불이행      단일로  기타단일로          승용차       중형   \n",
       "\n",
       "  당사자종별_2당_대분류 당사자종별_2당 사상자분류 주야분류  \n",
       "0          보행자      보행자     1    1  \n",
       "1          승용차       소형     3    1  \n",
       "2           없음       없음     1    0  \n",
       "3          승용차       소형     2    0  \n",
       "4           없음       없음     1    1  \n",
       "\n",
       "[5 rows x 25 columns]"
      ]
     },
     "execution_count": 41,
     "metadata": {},
     "output_type": "execute_result"
    }
   ],
   "source": [
    "data.head()"
   ]
  },
  {
   "cell_type": "code",
   "execution_count": 42,
   "metadata": {
    "ExecuteTime": {
     "end_time": "2020-08-09T11:14:59.070965Z",
     "start_time": "2020-08-09T11:14:59.060967Z"
    }
   },
   "outputs": [],
   "source": [
    "dateList = ['일','월','화','수','목','금', '토']"
   ]
  },
  {
   "cell_type": "code",
   "execution_count": 43,
   "metadata": {
    "ExecuteTime": {
     "end_time": "2020-08-09T11:14:59.212960Z",
     "start_time": "2020-08-09T11:14:59.075969Z"
    }
   },
   "outputs": [
    {
     "data": {
      "text/html": [
       "<div>\n",
       "<style scoped>\n",
       "    .dataframe tbody tr th:only-of-type {\n",
       "        vertical-align: middle;\n",
       "    }\n",
       "\n",
       "    .dataframe tbody tr th {\n",
       "        vertical-align: top;\n",
       "    }\n",
       "\n",
       "    .dataframe thead th {\n",
       "        text-align: right;\n",
       "    }\n",
       "</style>\n",
       "<table border=\"1\" class=\"dataframe\">\n",
       "  <thead>\n",
       "    <tr style=\"text-align: right;\">\n",
       "      <th></th>\n",
       "      <th>발생년</th>\n",
       "      <th>발생년월일시</th>\n",
       "      <th>발생분</th>\n",
       "      <th>주야</th>\n",
       "      <th>요일</th>\n",
       "      <th>사망자수</th>\n",
       "      <th>사상자수</th>\n",
       "      <th>중상자수</th>\n",
       "      <th>경상자수</th>\n",
       "      <th>부상신고자수</th>\n",
       "      <th>...</th>\n",
       "      <th>법규위반_대분류</th>\n",
       "      <th>법규위반</th>\n",
       "      <th>도로형태_대분류</th>\n",
       "      <th>도로형태</th>\n",
       "      <th>당사자종별_1당_대분류</th>\n",
       "      <th>당사자종별_1당</th>\n",
       "      <th>당사자종별_2당_대분류</th>\n",
       "      <th>당사자종별_2당</th>\n",
       "      <th>사상자분류</th>\n",
       "      <th>주야분류</th>\n",
       "    </tr>\n",
       "  </thead>\n",
       "  <tbody>\n",
       "    <tr>\n",
       "      <th>6</th>\n",
       "      <td>2012</td>\n",
       "      <td>2012010210</td>\n",
       "      <td>0</td>\n",
       "      <td>주간</td>\n",
       "      <td>1</td>\n",
       "      <td>2</td>\n",
       "      <td>2</td>\n",
       "      <td>0</td>\n",
       "      <td>0</td>\n",
       "      <td>0</td>\n",
       "      <td>...</td>\n",
       "      <td>운전자법규위반</td>\n",
       "      <td>안전운전 의무 불이행</td>\n",
       "      <td>단일로</td>\n",
       "      <td>기타단일로</td>\n",
       "      <td>승용차</td>\n",
       "      <td>중형</td>\n",
       "      <td>없음</td>\n",
       "      <td>없음</td>\n",
       "      <td>2</td>\n",
       "      <td>0</td>\n",
       "    </tr>\n",
       "    <tr>\n",
       "      <th>13</th>\n",
       "      <td>2012</td>\n",
       "      <td>2012010218</td>\n",
       "      <td>20</td>\n",
       "      <td>야간</td>\n",
       "      <td>1</td>\n",
       "      <td>1</td>\n",
       "      <td>1</td>\n",
       "      <td>0</td>\n",
       "      <td>0</td>\n",
       "      <td>0</td>\n",
       "      <td>...</td>\n",
       "      <td>운전자법규위반</td>\n",
       "      <td>안전운전 의무 불이행</td>\n",
       "      <td>교차로</td>\n",
       "      <td>교차로부근</td>\n",
       "      <td>승합차</td>\n",
       "      <td>소형</td>\n",
       "      <td>보행자</td>\n",
       "      <td>보행자</td>\n",
       "      <td>1</td>\n",
       "      <td>1</td>\n",
       "    </tr>\n",
       "    <tr>\n",
       "      <th>14</th>\n",
       "      <td>2012</td>\n",
       "      <td>2012010205</td>\n",
       "      <td>30</td>\n",
       "      <td>야간</td>\n",
       "      <td>1</td>\n",
       "      <td>1</td>\n",
       "      <td>2</td>\n",
       "      <td>0</td>\n",
       "      <td>1</td>\n",
       "      <td>0</td>\n",
       "      <td>...</td>\n",
       "      <td>운전자법규위반</td>\n",
       "      <td>안전운전 의무 불이행</td>\n",
       "      <td>단일로</td>\n",
       "      <td>기타단일로</td>\n",
       "      <td>승용차</td>\n",
       "      <td>대형</td>\n",
       "      <td>승용차</td>\n",
       "      <td>대형</td>\n",
       "      <td>2</td>\n",
       "      <td>1</td>\n",
       "    </tr>\n",
       "    <tr>\n",
       "      <th>20</th>\n",
       "      <td>2012</td>\n",
       "      <td>2012010220</td>\n",
       "      <td>15</td>\n",
       "      <td>야간</td>\n",
       "      <td>1</td>\n",
       "      <td>1</td>\n",
       "      <td>1</td>\n",
       "      <td>0</td>\n",
       "      <td>0</td>\n",
       "      <td>0</td>\n",
       "      <td>...</td>\n",
       "      <td>운전자법규위반</td>\n",
       "      <td>안전운전 의무 불이행</td>\n",
       "      <td>단일로</td>\n",
       "      <td>횡단보도부근</td>\n",
       "      <td>승용차</td>\n",
       "      <td>소형</td>\n",
       "      <td>보행자</td>\n",
       "      <td>보행자</td>\n",
       "      <td>1</td>\n",
       "      <td>1</td>\n",
       "    </tr>\n",
       "    <tr>\n",
       "      <th>32</th>\n",
       "      <td>2012</td>\n",
       "      <td>2012010213</td>\n",
       "      <td>35</td>\n",
       "      <td>주간</td>\n",
       "      <td>1</td>\n",
       "      <td>1</td>\n",
       "      <td>1</td>\n",
       "      <td>0</td>\n",
       "      <td>0</td>\n",
       "      <td>0</td>\n",
       "      <td>...</td>\n",
       "      <td>운전자법규위반</td>\n",
       "      <td>안전운전 의무 불이행</td>\n",
       "      <td>단일로</td>\n",
       "      <td>기타단일로</td>\n",
       "      <td>화물차</td>\n",
       "      <td>중형</td>\n",
       "      <td>없음</td>\n",
       "      <td>없음</td>\n",
       "      <td>1</td>\n",
       "      <td>0</td>\n",
       "    </tr>\n",
       "    <tr>\n",
       "      <th>...</th>\n",
       "      <td>...</td>\n",
       "      <td>...</td>\n",
       "      <td>...</td>\n",
       "      <td>...</td>\n",
       "      <td>...</td>\n",
       "      <td>...</td>\n",
       "      <td>...</td>\n",
       "      <td>...</td>\n",
       "      <td>...</td>\n",
       "      <td>...</td>\n",
       "      <td>...</td>\n",
       "      <td>...</td>\n",
       "      <td>...</td>\n",
       "      <td>...</td>\n",
       "      <td>...</td>\n",
       "      <td>...</td>\n",
       "      <td>...</td>\n",
       "      <td>...</td>\n",
       "      <td>...</td>\n",
       "      <td>...</td>\n",
       "      <td>...</td>\n",
       "    </tr>\n",
       "    <tr>\n",
       "      <th>34119</th>\n",
       "      <td>2019</td>\n",
       "      <td>2019123007</td>\n",
       "      <td>49</td>\n",
       "      <td>주간</td>\n",
       "      <td>1</td>\n",
       "      <td>1</td>\n",
       "      <td>2</td>\n",
       "      <td>0</td>\n",
       "      <td>1</td>\n",
       "      <td>0</td>\n",
       "      <td>...</td>\n",
       "      <td>운전자법규위반</td>\n",
       "      <td>중앙선 침범</td>\n",
       "      <td>교차로</td>\n",
       "      <td>교차로내</td>\n",
       "      <td>승용차</td>\n",
       "      <td>승용차</td>\n",
       "      <td>승용차</td>\n",
       "      <td>승용차</td>\n",
       "      <td>2</td>\n",
       "      <td>0</td>\n",
       "    </tr>\n",
       "    <tr>\n",
       "      <th>34129</th>\n",
       "      <td>2019</td>\n",
       "      <td>2019112501</td>\n",
       "      <td>30</td>\n",
       "      <td>야간</td>\n",
       "      <td>1</td>\n",
       "      <td>1</td>\n",
       "      <td>1</td>\n",
       "      <td>0</td>\n",
       "      <td>0</td>\n",
       "      <td>0</td>\n",
       "      <td>...</td>\n",
       "      <td>운전자법규위반</td>\n",
       "      <td>안전운전 의무 불이행</td>\n",
       "      <td>단일로</td>\n",
       "      <td>교량위</td>\n",
       "      <td>승용차</td>\n",
       "      <td>승용차</td>\n",
       "      <td>없음</td>\n",
       "      <td>없음</td>\n",
       "      <td>1</td>\n",
       "      <td>1</td>\n",
       "    </tr>\n",
       "    <tr>\n",
       "      <th>34130</th>\n",
       "      <td>2019</td>\n",
       "      <td>2019120921</td>\n",
       "      <td>35</td>\n",
       "      <td>야간</td>\n",
       "      <td>1</td>\n",
       "      <td>1</td>\n",
       "      <td>4</td>\n",
       "      <td>0</td>\n",
       "      <td>0</td>\n",
       "      <td>3</td>\n",
       "      <td>...</td>\n",
       "      <td>운전자법규위반</td>\n",
       "      <td>안전운전 의무 불이행</td>\n",
       "      <td>교차로</td>\n",
       "      <td>교차로내</td>\n",
       "      <td>승용차</td>\n",
       "      <td>승용차</td>\n",
       "      <td>승용차</td>\n",
       "      <td>승용차</td>\n",
       "      <td>3</td>\n",
       "      <td>1</td>\n",
       "    </tr>\n",
       "    <tr>\n",
       "      <th>34131</th>\n",
       "      <td>2019</td>\n",
       "      <td>2019121610</td>\n",
       "      <td>40</td>\n",
       "      <td>주간</td>\n",
       "      <td>1</td>\n",
       "      <td>1</td>\n",
       "      <td>1</td>\n",
       "      <td>0</td>\n",
       "      <td>0</td>\n",
       "      <td>0</td>\n",
       "      <td>...</td>\n",
       "      <td>운전자법규위반</td>\n",
       "      <td>신호 또는 지시에 따를 의무위반(정지선 위반포함)</td>\n",
       "      <td>교차로</td>\n",
       "      <td>교차로내</td>\n",
       "      <td>이륜차</td>\n",
       "      <td>이륜차</td>\n",
       "      <td>화물차</td>\n",
       "      <td>화물차</td>\n",
       "      <td>1</td>\n",
       "      <td>0</td>\n",
       "    </tr>\n",
       "    <tr>\n",
       "      <th>34132</th>\n",
       "      <td>2019</td>\n",
       "      <td>2019122313</td>\n",
       "      <td>40</td>\n",
       "      <td>주간</td>\n",
       "      <td>1</td>\n",
       "      <td>1</td>\n",
       "      <td>1</td>\n",
       "      <td>0</td>\n",
       "      <td>0</td>\n",
       "      <td>0</td>\n",
       "      <td>...</td>\n",
       "      <td>운전자법규위반</td>\n",
       "      <td>안전운전 의무 불이행</td>\n",
       "      <td>기타</td>\n",
       "      <td>기타</td>\n",
       "      <td>승용차</td>\n",
       "      <td>승용차</td>\n",
       "      <td>보행자</td>\n",
       "      <td>보행자</td>\n",
       "      <td>1</td>\n",
       "      <td>0</td>\n",
       "    </tr>\n",
       "  </tbody>\n",
       "</table>\n",
       "<p>5033 rows × 25 columns</p>\n",
       "</div>"
      ],
      "text/plain": [
       "        발생년      발생년월일시  발생분  주야  요일  사망자수  사상자수  중상자수  경상자수  부상신고자수  ...  \\\n",
       "6      2012  2012010210    0  주간   1     2     2     0     0       0  ...   \n",
       "13     2012  2012010218   20  야간   1     1     1     0     0       0  ...   \n",
       "14     2012  2012010205   30  야간   1     1     2     0     1       0  ...   \n",
       "20     2012  2012010220   15  야간   1     1     1     0     0       0  ...   \n",
       "32     2012  2012010213   35  주간   1     1     1     0     0       0  ...   \n",
       "...     ...         ...  ...  ..  ..   ...   ...   ...   ...     ...  ...   \n",
       "34119  2019  2019123007   49  주간   1     1     2     0     1       0  ...   \n",
       "34129  2019  2019112501   30  야간   1     1     1     0     0       0  ...   \n",
       "34130  2019  2019120921   35  야간   1     1     4     0     0       3  ...   \n",
       "34131  2019  2019121610   40  주간   1     1     1     0     0       0  ...   \n",
       "34132  2019  2019122313   40  주간   1     1     1     0     0       0  ...   \n",
       "\n",
       "      법규위반_대분류                         법규위반 도로형태_대분류    도로형태 당사자종별_1당_대분류  \\\n",
       "6      운전자법규위반                  안전운전 의무 불이행      단일로   기타단일로          승용차   \n",
       "13     운전자법규위반                  안전운전 의무 불이행      교차로   교차로부근          승합차   \n",
       "14     운전자법규위반                  안전운전 의무 불이행      단일로   기타단일로          승용차   \n",
       "20     운전자법규위반                  안전운전 의무 불이행      단일로  횡단보도부근          승용차   \n",
       "32     운전자법규위반                  안전운전 의무 불이행      단일로   기타단일로          화물차   \n",
       "...        ...                          ...      ...     ...          ...   \n",
       "34119  운전자법규위반                       중앙선 침범      교차로    교차로내          승용차   \n",
       "34129  운전자법규위반                  안전운전 의무 불이행      단일로     교량위          승용차   \n",
       "34130  운전자법규위반                  안전운전 의무 불이행      교차로    교차로내          승용차   \n",
       "34131  운전자법규위반  신호 또는 지시에 따를 의무위반(정지선 위반포함)      교차로    교차로내          이륜차   \n",
       "34132  운전자법규위반                  안전운전 의무 불이행       기타      기타          승용차   \n",
       "\n",
       "      당사자종별_1당 당사자종별_2당_대분류 당사자종별_2당 사상자분류 주야분류  \n",
       "6           중형           없음       없음     2    0  \n",
       "13          소형          보행자      보행자     1    1  \n",
       "14          대형          승용차       대형     2    1  \n",
       "20          소형          보행자      보행자     1    1  \n",
       "32          중형           없음       없음     1    0  \n",
       "...        ...          ...      ...   ...  ...  \n",
       "34119      승용차          승용차      승용차     2    0  \n",
       "34129      승용차           없음       없음     1    1  \n",
       "34130      승용차          승용차      승용차     3    1  \n",
       "34131      이륜차          화물차      화물차     1    0  \n",
       "34132      승용차          보행자      보행자     1    0  \n",
       "\n",
       "[5033 rows x 25 columns]"
      ]
     },
     "execution_count": 43,
     "metadata": {},
     "output_type": "execute_result"
    }
   ],
   "source": [
    "data[data['요일']==1]"
   ]
  },
  {
   "cell_type": "code",
   "execution_count": 44,
   "metadata": {
    "ExecuteTime": {
     "end_time": "2020-08-09T11:14:59.320962Z",
     "start_time": "2020-08-09T11:14:59.217963Z"
    },
    "scrolled": true
   },
   "outputs": [
    {
     "name": "stdout",
     "output_type": "stream",
     "text": [
      "일 요일의 사고유형 대분류\n",
      "사고유형_대분류\n",
      "차대사람    1534\n",
      "차대차     1529\n",
      "차량단독    1197\n",
      "Name: 사고유형_대분류, dtype: int64\n",
      "\n",
      "---------\n",
      "\n",
      "월 요일의 사고유형 대분류\n",
      "사고유형_대분류\n",
      "차대사람    1964\n",
      "차대차     2035\n",
      "차량단독    1034\n",
      "Name: 사고유형_대분류, dtype: int64\n",
      "\n",
      "---------\n",
      "\n",
      "화 요일의 사고유형 대분류\n",
      "사고유형_대분류\n",
      "차대사람    1969\n",
      "차대차     2029\n",
      "차량단독     984\n",
      "Name: 사고유형_대분류, dtype: int64\n",
      "\n",
      "---------\n",
      "\n",
      "수 요일의 사고유형 대분류\n",
      "사고유형_대분류\n",
      "차대사람    1981\n",
      "차대차     1903\n",
      "차량단독     951\n",
      "Name: 사고유형_대분류, dtype: int64\n",
      "\n",
      "---------\n",
      "\n",
      "목 요일의 사고유형 대분류\n",
      "사고유형_대분류\n",
      "차대사람    1950\n",
      "차대차     1913\n",
      "차량단독    1015\n",
      "Name: 사고유형_대분류, dtype: int64\n",
      "\n",
      "---------\n",
      "\n",
      "금 요일의 사고유형 대분류\n",
      "사고유형_대분류\n",
      "차대사람    2036\n",
      "차대차     2121\n",
      "차량단독     964\n",
      "Name: 사고유형_대분류, dtype: int64\n",
      "\n",
      "---------\n",
      "\n",
      "토 요일의 사고유형 대분류\n",
      "사고유형_대분류\n",
      "차대사람    1933\n",
      "차대차     1954\n",
      "차량단독    1140\n",
      "Name: 사고유형_대분류, dtype: int64\n",
      "\n",
      "---------\n",
      "\n"
     ]
    }
   ],
   "source": [
    "for i in range(7):\n",
    "    print(dateList[i], '요일의 사고유형 대분류')\n",
    "    print(data[data['요일']==i].groupby(['사고유형_대분류'])['사고유형_대분류'].count())\n",
    "    print('\\n---------\\n')"
   ]
  },
  {
   "cell_type": "markdown",
   "metadata": {},
   "source": [
    "대체적으로 요일에 따른 것은 의미가 없음을 알 수 있었습니다."
   ]
  },
  {
   "cell_type": "markdown",
   "metadata": {
    "ExecuteTime": {
     "end_time": "2020-06-25T15:18:55.905297Z",
     "start_time": "2020-06-25T15:18:55.898313Z"
    }
   },
   "source": [
    "### 법규위반 대분류 에 따른 분류 - 의미 없음."
   ]
  },
  {
   "cell_type": "code",
   "execution_count": 45,
   "metadata": {
    "ExecuteTime": {
     "end_time": "2020-08-09T11:14:59.350963Z",
     "start_time": "2020-08-09T11:14:59.325968Z"
    }
   },
   "outputs": [
    {
     "data": {
      "text/plain": [
       "array(['운전자법규위반', '정비불량', '보행자과실'], dtype=object)"
      ]
     },
     "execution_count": 45,
     "metadata": {},
     "output_type": "execute_result"
    }
   ],
   "source": [
    "data.법규위반_대분류.unique()"
   ]
  },
  {
   "cell_type": "code",
   "execution_count": 46,
   "metadata": {
    "ExecuteTime": {
     "end_time": "2020-08-09T11:14:59.397963Z",
     "start_time": "2020-08-09T11:14:59.363966Z"
    },
    "scrolled": false
   },
   "outputs": [
    {
     "data": {
      "text/plain": [
       "운전자법규위반    34127\n",
       "정비불량           8\n",
       "보행자과실          1\n",
       "Name: 법규위반_대분류, dtype: int64"
      ]
     },
     "execution_count": 46,
     "metadata": {},
     "output_type": "execute_result"
    }
   ],
   "source": [
    "data['법규위반_대분류'].value_counts()"
   ]
  },
  {
   "cell_type": "markdown",
   "metadata": {},
   "source": [
    "정비 불량, 보행자 과실이 너무 적어 학습이 어려울 것으로 추측"
   ]
  },
  {
   "cell_type": "markdown",
   "metadata": {},
   "source": [
    "### 지역에 따른 분류"
   ]
  },
  {
   "cell_type": "code",
   "execution_count": 47,
   "metadata": {
    "ExecuteTime": {
     "end_time": "2020-08-09T11:14:59.429963Z",
     "start_time": "2020-08-09T11:14:59.403965Z"
    }
   },
   "outputs": [
    {
     "data": {
      "text/plain": [
       "array(['서울', '전북', '충남', '경남', '경북', '전남', '충북', '부산', '경기', '인천', '광주',\n",
       "       '울산', '강원', '대구', '제주', '대전', '세종'], dtype=object)"
      ]
     },
     "execution_count": 47,
     "metadata": {},
     "output_type": "execute_result"
    }
   ],
   "source": [
    "data.발생지시도.unique()"
   ]
  },
  {
   "cell_type": "code",
   "execution_count": 48,
   "metadata": {
    "ExecuteTime": {
     "end_time": "2020-08-09T11:14:59.461960Z",
     "start_time": "2020-08-09T11:14:59.434965Z"
    },
    "scrolled": true
   },
   "outputs": [
    {
     "data": {
      "text/plain": [
       "['서울',\n",
       " '전북',\n",
       " '충남',\n",
       " '경남',\n",
       " '경북',\n",
       " '전남',\n",
       " '충북',\n",
       " '부산',\n",
       " '경기',\n",
       " '인천',\n",
       " '광주',\n",
       " '울산',\n",
       " '강원',\n",
       " '대구',\n",
       " '제주',\n",
       " '대전',\n",
       " '세종']"
      ]
     },
     "execution_count": 48,
     "metadata": {},
     "output_type": "execute_result"
    }
   ],
   "source": [
    "areaList = list(data.발생지시도.unique())\n",
    "areaList"
   ]
  },
  {
   "cell_type": "code",
   "execution_count": 49,
   "metadata": {
    "ExecuteTime": {
     "end_time": "2020-08-09T11:14:59.746962Z",
     "start_time": "2020-08-09T11:14:59.466967Z"
    },
    "scrolled": true
   },
   "outputs": [
    {
     "name": "stdout",
     "output_type": "stream",
     "text": [
      "서울  지역의 사고유형 대분류\n",
      "사고유형_대분류\n",
      "차대사람    1572\n",
      "차대차      905\n",
      "차량단독     294\n",
      "Name: 사고유형_대분류, dtype: int64\n",
      "\n",
      "---------\n",
      "\n",
      "전북  지역의 사고유형 대분류\n",
      "사고유형_대분류\n",
      "차대사람     803\n",
      "차대차     1027\n",
      "차량단독     509\n",
      "Name: 사고유형_대분류, dtype: int64\n",
      "\n",
      "---------\n",
      "\n",
      "충남  지역의 사고유형 대분류\n",
      "사고유형_대분류\n",
      "차대사람     955\n",
      "차대차     1235\n",
      "차량단독     714\n",
      "Name: 사고유형_대분류, dtype: int64\n",
      "\n",
      "---------\n",
      "\n",
      "경남  지역의 사고유형 대분류\n",
      "사고유형_대분류\n",
      "차대사람    1108\n",
      "차대차     1201\n",
      "차량단독     673\n",
      "Name: 사고유형_대분류, dtype: int64\n",
      "\n",
      "---------\n",
      "\n",
      "경북  지역의 사고유형 대분류\n",
      "사고유형_대분류\n",
      "차대사람    1111\n",
      "차대차     1528\n",
      "차량단독     976\n",
      "Name: 사고유형_대분류, dtype: int64\n",
      "\n",
      "---------\n",
      "\n",
      "전남  지역의 사고유형 대분류\n",
      "사고유형_대분류\n",
      "차대사람     966\n",
      "차대차     1084\n",
      "차량단독     905\n",
      "Name: 사고유형_대분류, dtype: int64\n",
      "\n",
      "---------\n",
      "\n",
      "충북  지역의 사고유형 대분류\n",
      "사고유형_대분류\n",
      "차대사람    588\n",
      "차대차     824\n",
      "차량단독    436\n",
      "Name: 사고유형_대분류, dtype: int64\n",
      "\n",
      "---------\n",
      "\n",
      "부산  지역의 사고유형 대분류\n",
      "사고유형_대분류\n",
      "차대사람    682\n",
      "차대차     437\n",
      "차량단독    196\n",
      "Name: 사고유형_대분류, dtype: int64\n",
      "\n",
      "---------\n",
      "\n",
      "경기  지역의 사고유형 대분류\n",
      "사고유형_대분류\n",
      "차대사람    2572\n",
      "차대차     2652\n",
      "차량단독    1186\n",
      "Name: 사고유형_대분류, dtype: int64\n",
      "\n",
      "---------\n",
      "\n",
      "인천  지역의 사고유형 대분류\n",
      "사고유형_대분류\n",
      "차대사람    502\n",
      "차대차     428\n",
      "차량단독    154\n",
      "Name: 사고유형_대분류, dtype: int64\n",
      "\n",
      "---------\n",
      "\n",
      "광주  지역의 사고유형 대분류\n",
      "사고유형_대분류\n",
      "차대사람    401\n",
      "차대차     257\n",
      "차량단독     74\n",
      "Name: 사고유형_대분류, dtype: int64\n",
      "\n",
      "---------\n",
      "\n",
      "울산  지역의 사고유형 대분류\n",
      "사고유형_대분류\n",
      "차대사람    292\n",
      "차대차     248\n",
      "차량단독    143\n",
      "Name: 사고유형_대분류, dtype: int64\n",
      "\n",
      "---------\n",
      "\n",
      "강원  지역의 사고유형 대분류\n",
      "사고유형_대분류\n",
      "차대사람    550\n",
      "차대차     607\n",
      "차량단독    560\n",
      "Name: 사고유형_대분류, dtype: int64\n",
      "\n",
      "---------\n",
      "\n",
      "대구  지역의 사고유형 대분류\n",
      "사고유형_대분류\n",
      "차대사람    557\n",
      "차대차     500\n",
      "차량단독    168\n",
      "Name: 사고유형_대분류, dtype: int64\n",
      "\n",
      "---------\n",
      "\n",
      "제주  지역의 사고유형 대분류\n",
      "사고유형_대분류\n",
      "차대사람    300\n",
      "차대차     216\n",
      "차량단독    148\n",
      "Name: 사고유형_대분류, dtype: int64\n",
      "\n",
      "---------\n",
      "\n",
      "대전  지역의 사고유형 대분류\n",
      "사고유형_대분류\n",
      "차대사람    377\n",
      "차대차     259\n",
      "차량단독    111\n",
      "Name: 사고유형_대분류, dtype: int64\n",
      "\n",
      "---------\n",
      "\n",
      "세종  지역의 사고유형 대분류\n",
      "사고유형_대분류\n",
      "차대사람    31\n",
      "차대차     76\n",
      "차량단독    38\n",
      "Name: 사고유형_대분류, dtype: int64\n",
      "\n",
      "---------\n",
      "\n"
     ]
    }
   ],
   "source": [
    "for areaName in areaList:\n",
    "    print(areaName, ' 지역의 사고유형 대분류')\n",
    "    print(data[data['발생지시도']==areaName].groupby(['사고유형_대분류'])['사고유형_대분류'].count())\n",
    "    print('\\n---------\\n')"
   ]
  },
  {
   "cell_type": "code",
   "execution_count": 50,
   "metadata": {
    "ExecuteTime": {
     "end_time": "2020-08-09T11:15:00.000971Z",
     "start_time": "2020-08-09T11:14:59.752974Z"
    }
   },
   "outputs": [
    {
     "data": {
      "text/plain": [
       "Text(0.5, 1.0, '서울 사고의 사고유형_대분류별 분류')"
      ]
     },
     "execution_count": 50,
     "metadata": {},
     "output_type": "execute_result"
    },
    {
     "data": {
      "image/png": "[encoded data removed]",
      "text/plain": [
       "<Figure size 1296x576 with 1 Axes>"
      ]
     },
     "metadata": {},
     "output_type": "display_data"
    }
   ],
   "source": [
    "## 서울만 파이 플롯으로 그려보겠습니다!\n",
    "f,ax=plt.subplots(1,1,figsize=(18,8))\n",
    "labels = list(data.사고유형_대분류.unique())\n",
    "data[data['발생지시도']=='서울'].groupby(['사고유형_대분류'])['사고유형_대분류'].count().plot.pie(autopct='%1.1f%%', labels=labels,shadow=True)\n",
    "ax.set_title('서울 사고의 사고유형_대분류별 분류')\n"
   ]
  },
  {
   "cell_type": "markdown",
   "metadata": {},
   "source": [
    "차대 사람의 비율 이 높은 지역 : 서울, 광주, 제주\n",
    "\n",
    "차대차 비율이 높은 지역 : 전북, 충남, 경북, 충북, 세종\n",
    "\n",
    "비등비등한 지역 : 나머지.\n",
    "    \n",
    "로 알 수 있었습니다. 의미 있는 해석이 되었습니다..!"
   ]
  },
  {
   "cell_type": "code",
   "execution_count": null,
   "metadata": {},
   "outputs": [],
   "source": []
  },
  {
   "cell_type": "markdown",
   "metadata": {},
   "source": [
    "### 도로형태_대분류에 따른 분류"
   ]
  },
  {
   "cell_type": "code",
   "execution_count": 51,
   "metadata": {
    "ExecuteTime": {
     "end_time": "2020-08-09T11:15:00.048967Z",
     "start_time": "2020-08-09T11:15:00.020962Z"
    }
   },
   "outputs": [
    {
     "data": {
      "text/plain": [
       "array(['단일로', '교차로', '기타/불명', ' 횡단 후진등 금지위반(부당한 회전)', '어린이보호위반', ' 최저속도',\n",
       "       '보행자통행방해행위)', '유턴', '기타', '불명', '주차장'], dtype=object)"
      ]
     },
     "execution_count": 51,
     "metadata": {},
     "output_type": "execute_result"
    }
   ],
   "source": [
    "data.도로형태_대분류.unique()"
   ]
  },
  {
   "cell_type": "code",
   "execution_count": 52,
   "metadata": {
    "ExecuteTime": {
     "end_time": "2020-08-09T11:15:00.317961Z",
     "start_time": "2020-08-09T11:15:00.065965Z"
    }
   },
   "outputs": [
    {
     "name": "stdout",
     "output_type": "stream",
     "text": [
      "단일로  형태의 도로의 사고유형 대분류\n",
      "사고유형_대분류\n",
      "차대사람    8670\n",
      "차대차     7754\n",
      "차량단독    5847\n",
      "Name: 사고유형_대분류, dtype: int64\n",
      "\n",
      "---------\n",
      "\n",
      "교차로  형태의 도로의 사고유형 대분류\n",
      "사고유형_대분류\n",
      "차대사람    4152\n",
      "차대차     5257\n",
      "차량단독    1095\n",
      "Name: 사고유형_대분류, dtype: int64\n",
      "\n",
      "---------\n",
      "\n",
      "기타/불명  형태의 도로의 사고유형 대분류\n",
      "사고유형_대분류\n",
      "차대사람    215\n",
      "차대차     158\n",
      "차량단독    185\n",
      "Name: 사고유형_대분류, dtype: int64\n",
      "\n",
      "---------\n",
      "\n",
      " 횡단 후진등 금지위반(부당한 회전)  형태의 도로의 사고유형 대분류\n",
      "사고유형_대분류\n",
      "차대사람     25\n",
      "차대차     156\n",
      "Name: 사고유형_대분류, dtype: int64\n",
      "\n",
      "---------\n",
      "\n",
      "어린이보호위반  형태의 도로의 사고유형 대분류\n",
      "사고유형_대분류\n",
      "차대사람    36\n",
      "차대차     34\n",
      "차량단독    48\n",
      "Name: 사고유형_대분류, dtype: int64\n",
      "\n",
      "---------\n",
      "\n",
      " 최저속도  형태의 도로의 사고유형 대분류\n",
      "사고유형_대분류\n",
      "차대사람    13\n",
      "차대차      3\n",
      "차량단독     1\n",
      "Name: 사고유형_대분류, dtype: int64\n",
      "\n",
      "---------\n",
      "\n",
      "보행자통행방해행위)  형태의 도로의 사고유형 대분류\n",
      "사고유형_대분류\n",
      "차대사람    107\n",
      "차대차       6\n",
      "Name: 사고유형_대분류, dtype: int64\n",
      "\n",
      "---------\n",
      "\n",
      "유턴  형태의 도로의 사고유형 대분류\n",
      "사고유형_대분류\n",
      "차대차    9\n",
      "Name: 사고유형_대분류, dtype: int64\n",
      "\n",
      "---------\n",
      "\n",
      "기타  형태의 도로의 사고유형 대분류\n",
      "사고유형_대분류\n",
      "차대사람    136\n",
      "차대차      99\n",
      "차량단독    104\n",
      "Name: 사고유형_대분류, dtype: int64\n",
      "\n",
      "---------\n",
      "\n",
      "불명  형태의 도로의 사고유형 대분류\n",
      "사고유형_대분류\n",
      "차대사람    3\n",
      "차대차     8\n",
      "차량단독    1\n",
      "Name: 사고유형_대분류, dtype: int64\n",
      "\n",
      "---------\n",
      "\n",
      "주차장  형태의 도로의 사고유형 대분류\n",
      "사고유형_대분류\n",
      "차대사람    10\n",
      "차량단독     4\n",
      "Name: 사고유형_대분류, dtype: int64\n",
      "\n",
      "---------\n",
      "\n"
     ]
    }
   ],
   "source": [
    "loadList = list(data.도로형태_대분류.unique())\n",
    "loadList\n",
    "\n",
    "for loadtype in loadList:\n",
    "    print(loadtype, ' 형태의 도로의 사고유형 대분류')\n",
    "    print(data[data['도로형태_대분류']==loadtype].groupby(['사고유형_대분류'])['사고유형_대분류'].count())\n",
    "    print('\\n---------\\n')"
   ]
  },
  {
   "cell_type": "code",
   "execution_count": 53,
   "metadata": {
    "ExecuteTime": {
     "end_time": "2020-08-09T11:15:00.586961Z",
     "start_time": "2020-08-09T11:15:00.322970Z"
    }
   },
   "outputs": [
    {
     "data": {
      "text/plain": [
       "Text(0.5, 1.0, '단일로 사고의 사고유형_대분류별 분류')"
      ]
     },
     "execution_count": 53,
     "metadata": {},
     "output_type": "execute_result"
    },
    {
     "data": {
      "image/png": "[encoded data removed]",
      "text/plain": [
       "<Figure size 1296x576 with 1 Axes>"
      ]
     },
     "metadata": {},
     "output_type": "display_data"
    }
   ],
   "source": [
    "## 단일로만 파이 플롯으로 그려보겠습니다!\n",
    "f,ax=plt.subplots(1,1,figsize=(18,8))\n",
    "labels = list(data.사고유형_대분류.unique())\n",
    "data[data['도로형태_대분류']=='단일로'].groupby(['사고유형_대분류'])['사고유형_대분류'].count().plot.pie(autopct='%1.1f%%', labels=labels,shadow=True)\n",
    "ax.set_title('단일로 사고의 사고유형_대분류별 분류')\n"
   ]
  },
  {
   "cell_type": "markdown",
   "metadata": {},
   "source": [
    "결과를 보면, \n",
    "차대사람 비율이 높은 경우 : 단일로, 기타/불명, 보행자 통행 방해 등등..\n",
    "\n",
    "차대차 비율이 높은 경우 :  교차로, 등등..\n",
    "\n",
    "차량 단독의 비율이 높은 경우 : 없음\n",
    "\n",
    "으로 알 수 있었습니다.\n",
    "\n"
   ]
  },
  {
   "cell_type": "markdown",
   "metadata": {},
   "source": [
    "### 당사자종별_1당_대분류 에 따른 분류"
   ]
  },
  {
   "cell_type": "code",
   "execution_count": 54,
   "metadata": {
    "ExecuteTime": {
     "end_time": "2020-08-09T11:15:00.921963Z",
     "start_time": "2020-08-09T11:15:00.592965Z"
    },
    "scrolled": false
   },
   "outputs": [
    {
     "name": "stdout",
     "output_type": "stream",
     "text": [
      "승용차  와 같은 가해자 차종에 따른 사고유형 대분류\n",
      "사고유형_대분류\n",
      "차대사람    7911\n",
      "차대차     5714\n",
      "차량단독    2947\n",
      "Name: 사고유형_대분류, dtype: int64\n",
      "\n",
      "---------\n",
      "\n",
      "승합차  와 같은 가해자 차종에 따른 사고유형 대분류\n",
      "사고유형_대분류\n",
      "차대사람    1482\n",
      "차대차      707\n",
      "차량단독     207\n",
      "Name: 사고유형_대분류, dtype: int64\n",
      "\n",
      "---------\n",
      "\n",
      "원동기장치자전거  와 같은 가해자 차종에 따른 사고유형 대분류\n",
      "사고유형_대분류\n",
      "차대사람     67\n",
      "차대차     712\n",
      "차량단독    508\n",
      "Name: 사고유형_대분류, dtype: int64\n",
      "\n",
      "---------\n",
      "\n",
      "이륜차  와 같은 가해자 차종에 따른 사고유형 대분류\n",
      "사고유형_대분류\n",
      "차대사람     219\n",
      "차대차     1605\n",
      "차량단독    1352\n",
      "Name: 사고유형_대분류, dtype: int64\n",
      "\n",
      "---------\n",
      "\n",
      "화물차  와 같은 가해자 차종에 따른 사고유형 대분류\n",
      "사고유형_대분류\n",
      "차대사람    2960\n",
      "차대차     3419\n",
      "차량단독    1287\n",
      "Name: 사고유형_대분류, dtype: int64\n",
      "\n",
      "---------\n",
      "\n",
      "농기계  와 같은 가해자 차종에 따른 사고유형 대분류\n",
      "사고유형_대분류\n",
      "차대사람     19\n",
      "차대차      77\n",
      "차량단독    472\n",
      "Name: 사고유형_대분류, dtype: int64\n",
      "\n",
      "---------\n",
      "\n",
      "특수차  와 같은 가해자 차종에 따른 사고유형 대분류\n",
      "사고유형_대분류\n",
      "차대사람    109\n",
      "차대차     178\n",
      "차량단독     59\n",
      "Name: 사고유형_대분류, dtype: int64\n",
      "\n",
      "---------\n",
      "\n",
      "자전거  와 같은 가해자 차종에 따른 사고유형 대분류\n",
      "사고유형_대분류\n",
      "차대사람     47\n",
      "차대차     490\n",
      "차량단독    189\n",
      "Name: 사고유형_대분류, dtype: int64\n",
      "\n",
      "---------\n",
      "\n",
      "교차로부근  와 같은 가해자 차종에 따른 사고유형 대분류\n",
      "사고유형_대분류\n",
      "차대사람    21\n",
      "차대차     23\n",
      "Name: 사고유형_대분류, dtype: int64\n",
      "\n",
      "---------\n",
      "\n",
      "건설기계  와 같은 가해자 차종에 따른 사고유형 대분류\n",
      "사고유형_대분류\n",
      "차대사람    346\n",
      "차대차     306\n",
      "차량단독     98\n",
      "Name: 사고유형_대분류, dtype: int64\n",
      "\n",
      "---------\n",
      "\n",
      "단일로  와 같은 가해자 차종에 따른 사고유형 대분류\n",
      "사고유형_대분류\n",
      "차대사람    28\n",
      "차대차     29\n",
      "차량단독    35\n",
      "Name: 사고유형_대분류, dtype: int64\n",
      "\n",
      "---------\n",
      "\n",
      "교차로내  와 같은 가해자 차종에 따른 사고유형 대분류\n",
      "사고유형_대분류\n",
      "차대사람     8\n",
      "차대차     55\n",
      "Name: 사고유형_대분류, dtype: int64\n",
      "\n",
      "---------\n",
      "\n",
      "기타단일로  와 같은 가해자 차종에 따른 사고유형 대분류\n",
      "사고유형_대분류\n",
      "차대사람    94\n",
      "차대차     59\n",
      "Name: 사고유형_대분류, dtype: int64\n",
      "\n",
      "---------\n",
      "\n",
      "불명  와 같은 가해자 차종에 따른 사고유형 대분류\n",
      "사고유형_대분류\n",
      "차대사람    24\n",
      "차대차     27\n",
      "차량단독     5\n",
      "Name: 사고유형_대분류, dtype: int64\n",
      "\n",
      "---------\n",
      "\n",
      "횡단보도부근  와 같은 가해자 차종에 따른 사고유형 대분류\n",
      "사고유형_대분류\n",
      "차대사람    2\n",
      "차대차     3\n",
      "Name: 사고유형_대분류, dtype: int64\n",
      "\n",
      "---------\n",
      "\n",
      "횡단보도상  와 같은 가해자 차종에 따른 사고유형 대분류\n",
      "사고유형_대분류\n",
      "차대사람     3\n",
      "차대차     17\n",
      "Name: 사고유형_대분류, dtype: int64\n",
      "\n",
      "---------\n",
      "\n",
      "교차로  와 같은 가해자 차종에 따른 사고유형 대분류\n",
      "사고유형_대분류\n",
      "차대사람     7\n",
      "차대차      9\n",
      "차량단독    11\n",
      "Name: 사고유형_대분류, dtype: int64\n",
      "\n",
      "---------\n",
      "\n",
      "기타/불명  와 같은 가해자 차종에 따른 사고유형 대분류\n",
      "사고유형_대분류\n",
      "차대사람    9\n",
      "차대차     3\n",
      "차량단독    1\n",
      "Name: 사고유형_대분류, dtype: int64\n",
      "\n",
      "---------\n",
      "\n",
      "고가도로위  와 같은 가해자 차종에 따른 사고유형 대분류\n",
      "사고유형_대분류\n",
      "차대사람    1\n",
      "Name: 사고유형_대분류, dtype: int64\n",
      "\n",
      "---------\n",
      "\n",
      "교량위  와 같은 가해자 차종에 따른 사고유형 대분류\n",
      "사고유형_대분류\n",
      "차대차     1\n",
      "차량단독    1\n",
      "Name: 사고유형_대분류, dtype: int64\n",
      "\n",
      "---------\n",
      "\n",
      "사륜오토바이(ATV)  와 같은 가해자 차종에 따른 사고유형 대분류\n",
      "사고유형_대분류\n",
      "차대사람     1\n",
      "차대차     31\n",
      "차량단독    98\n",
      "Name: 사고유형_대분류, dtype: int64\n",
      "\n",
      "---------\n",
      "\n",
      "기타  와 같은 가해자 차종에 따른 사고유형 대분류\n",
      "사고유형_대분류\n",
      "차대사람    5\n",
      "차대차     7\n",
      "차량단독    5\n",
      "Name: 사고유형_대분류, dtype: int64\n",
      "\n",
      "---------\n",
      "\n",
      "개인형이동수단(PM)  와 같은 가해자 차종에 따른 사고유형 대분류\n",
      "사고유형_대분류\n",
      "차대사람     1\n",
      "차대차      5\n",
      "차량단독    10\n",
      "Name: 사고유형_대분류, dtype: int64\n",
      "\n",
      "---------\n",
      "\n",
      "교차로횡단보도내  와 같은 가해자 차종에 따른 사고유형 대분류\n",
      "사고유형_대분류\n",
      "차대사람    2\n",
      "차대차     7\n",
      "Name: 사고유형_대분류, dtype: int64\n",
      "\n",
      "---------\n",
      "\n",
      "지하차도(도로)내  와 같은 가해자 차종에 따른 사고유형 대분류\n",
      "사고유형_대분류\n",
      "차대사람    1\n",
      "Name: 사고유형_대분류, dtype: int64\n",
      "\n",
      "---------\n",
      "\n"
     ]
    }
   ],
   "source": [
    "attackCarTypeList = list(data.당사자종별_1당_대분류.unique())\n",
    "attackCarTypeList\n",
    "\n",
    "for attackCarType in attackCarTypeList:\n",
    "    print(attackCarType, ' 와 같은 가해자 차종에 따른 사고유형 대분류')\n",
    "    print(data[data['당사자종별_1당_대분류']==attackCarType].groupby(['사고유형_대분류'])['사고유형_대분류'].count())\n",
    "    print('\\n---------\\n')"
   ]
  },
  {
   "cell_type": "code",
   "execution_count": 55,
   "metadata": {
    "ExecuteTime": {
     "end_time": "2020-08-09T11:15:01.380965Z",
     "start_time": "2020-08-09T11:15:00.925966Z"
    }
   },
   "outputs": [
    {
     "data": {
      "text/plain": [
       "Text(0.5, 1.0, '승용차 사고의 사고유형_대분류별 분류')"
      ]
     },
     "execution_count": 55,
     "metadata": {},
     "output_type": "execute_result"
    },
    {
     "data": {
      "image/png": "[encoded data removed]",
      "text/plain": [
       "<Figure size 1296x576 with 1 Axes>"
      ]
     },
     "metadata": {},
     "output_type": "display_data"
    }
   ],
   "source": [
    "## 승용차 사고만 파이 플롯으로 그려보겠습니다!\n",
    "f,ax=plt.subplots(1,1,figsize=(18,8))\n",
    "labels = list(data.사고유형_대분류.unique())\n",
    "data[data['당사자종별_1당_대분류']=='승용차'].groupby(['사고유형_대분류'])['사고유형_대분류'].count().plot.pie(autopct='%1.1f%%', labels=labels,shadow=True)\n",
    "ax.set_title('승용차 사고의 사고유형_대분류별 분류')\n"
   ]
  },
  {
   "cell_type": "markdown",
   "metadata": {},
   "source": [
    "결과를 보면, \n",
    "차대사람 비율이 높은 경우 : 승용차, 승합차, \n",
    "\n",
    "차대차 비율이 높은 경우 : 원동기장치자전거, 화물차, 자전거, \n",
    "\n",
    "차량 단독의 비율이 높은 경우 : 농기계\n",
    "\n",
    "위와 같음을 알 수 있었습니다~!"
   ]
  },
  {
   "cell_type": "markdown",
   "metadata": {},
   "source": [
    "## Feature Engineering and Data Cleaning"
   ]
  },
  {
   "cell_type": "markdown",
   "metadata": {},
   "source": [
    "### 필요없는 컬럼 제거하기"
   ]
  },
  {
   "cell_type": "markdown",
   "metadata": {
    "ExecuteTime": {
     "end_time": "2020-06-25T15:48:45.916913Z",
     "start_time": "2020-06-25T15:48:45.908935Z"
    }
   },
   "source": [
    "위 5가지 인풋과 아웃풋 1개를 제외한 나머지는 다 제거할 예정입니다."
   ]
  },
  {
   "cell_type": "code",
   "execution_count": 56,
   "metadata": {
    "ExecuteTime": {
     "end_time": "2020-08-09T11:15:01.412964Z",
     "start_time": "2020-08-09T11:15:01.388969Z"
    },
    "scrolled": false
   },
   "outputs": [
    {
     "data": {
      "text/plain": [
       "Index(['발생년', '발생년월일시', '발생분', '주야', '요일', '사망자수', '사상자수', '중상자수', '경상자수',\n",
       "       '부상신고자수', '발생지시도', '발생지시군구', '사고유형_대분류', '사고유형_중분류', '사고유형', '법규위반_대분류',\n",
       "       '법규위반', '도로형태_대분류', '도로형태', '당사자종별_1당_대분류', '당사자종별_1당', '당사자종별_2당_대분류',\n",
       "       '당사자종별_2당', '사상자분류', '주야분류'],\n",
       "      dtype='object')"
      ]
     },
     "execution_count": 56,
     "metadata": {},
     "output_type": "execute_result"
    }
   ],
   "source": [
    "data.columns"
   ]
  },
  {
   "cell_type": "code",
   "execution_count": 57,
   "metadata": {
    "ExecuteTime": {
     "end_time": "2020-08-09T11:15:01.427968Z",
     "start_time": "2020-08-09T11:15:01.418966Z"
    }
   },
   "outputs": [],
   "source": [
    "column_set = set(data.columns)"
   ]
  },
  {
   "cell_type": "code",
   "execution_count": 58,
   "metadata": {
    "ExecuteTime": {
     "end_time": "2020-08-09T11:15:01.443977Z",
     "start_time": "2020-08-09T11:15:01.433969Z"
    }
   },
   "outputs": [],
   "source": [
    "wants_set = {'발생지시도', '사고유형_대분류','도로형태_대분류', '당사자종별_1당_대분류','사상자분류', '주야분류'}"
   ]
  },
  {
   "cell_type": "code",
   "execution_count": 59,
   "metadata": {
    "ExecuteTime": {
     "end_time": "2020-08-09T11:15:01.459968Z",
     "start_time": "2020-08-09T11:15:01.448969Z"
    }
   },
   "outputs": [],
   "source": [
    "deleteIndexList = list(column_set.difference(wants_set))"
   ]
  },
  {
   "cell_type": "code",
   "execution_count": 60,
   "metadata": {
    "ExecuteTime": {
     "end_time": "2020-08-09T11:15:01.489963Z",
     "start_time": "2020-08-09T11:15:01.464967Z"
    }
   },
   "outputs": [
    {
     "data": {
      "text/plain": [
       "['법규위반',\n",
       " '주야',\n",
       " '발생년월일시',\n",
       " '발생지시군구',\n",
       " '경상자수',\n",
       " '중상자수',\n",
       " '발생분',\n",
       " '사상자수',\n",
       " '부상신고자수',\n",
       " '요일',\n",
       " '사망자수',\n",
       " '법규위반_대분류',\n",
       " '발생년',\n",
       " '당사자종별_1당',\n",
       " '당사자종별_2당_대분류',\n",
       " '사고유형',\n",
       " '도로형태',\n",
       " '사고유형_중분류',\n",
       " '당사자종별_2당']"
      ]
     },
     "execution_count": 60,
     "metadata": {},
     "output_type": "execute_result"
    }
   ],
   "source": [
    "deleteIndexList"
   ]
  },
  {
   "cell_type": "code",
   "execution_count": 61,
   "metadata": {
    "ExecuteTime": {
     "end_time": "2020-08-09T11:15:01.521959Z",
     "start_time": "2020-08-09T11:15:01.495967Z"
    }
   },
   "outputs": [],
   "source": [
    "data = data.drop(deleteIndexList, axis =1)"
   ]
  },
  {
   "cell_type": "code",
   "execution_count": 62,
   "metadata": {
    "ExecuteTime": {
     "end_time": "2020-08-09T11:15:01.567968Z",
     "start_time": "2020-08-09T11:15:01.526963Z"
    },
    "scrolled": true
   },
   "outputs": [
    {
     "data": {
      "text/html": [
       "<div>\n",
       "<style scoped>\n",
       "    .dataframe tbody tr th:only-of-type {\n",
       "        vertical-align: middle;\n",
       "    }\n",
       "\n",
       "    .dataframe tbody tr th {\n",
       "        vertical-align: top;\n",
       "    }\n",
       "\n",
       "    .dataframe thead th {\n",
       "        text-align: right;\n",
       "    }\n",
       "</style>\n",
       "<table border=\"1\" class=\"dataframe\">\n",
       "  <thead>\n",
       "    <tr style=\"text-align: right;\">\n",
       "      <th></th>\n",
       "      <th>발생지시도</th>\n",
       "      <th>사고유형_대분류</th>\n",
       "      <th>도로형태_대분류</th>\n",
       "      <th>당사자종별_1당_대분류</th>\n",
       "      <th>사상자분류</th>\n",
       "      <th>주야분류</th>\n",
       "    </tr>\n",
       "  </thead>\n",
       "  <tbody>\n",
       "    <tr>\n",
       "      <th>0</th>\n",
       "      <td>서울</td>\n",
       "      <td>차대사람</td>\n",
       "      <td>단일로</td>\n",
       "      <td>승용차</td>\n",
       "      <td>1</td>\n",
       "      <td>1</td>\n",
       "    </tr>\n",
       "    <tr>\n",
       "      <th>1</th>\n",
       "      <td>전북</td>\n",
       "      <td>차대차</td>\n",
       "      <td>단일로</td>\n",
       "      <td>승용차</td>\n",
       "      <td>3</td>\n",
       "      <td>1</td>\n",
       "    </tr>\n",
       "    <tr>\n",
       "      <th>2</th>\n",
       "      <td>충남</td>\n",
       "      <td>차량단독</td>\n",
       "      <td>단일로</td>\n",
       "      <td>승용차</td>\n",
       "      <td>1</td>\n",
       "      <td>0</td>\n",
       "    </tr>\n",
       "    <tr>\n",
       "      <th>3</th>\n",
       "      <td>경남</td>\n",
       "      <td>차대차</td>\n",
       "      <td>교차로</td>\n",
       "      <td>승합차</td>\n",
       "      <td>2</td>\n",
       "      <td>0</td>\n",
       "    </tr>\n",
       "    <tr>\n",
       "      <th>4</th>\n",
       "      <td>경북</td>\n",
       "      <td>차량단독</td>\n",
       "      <td>단일로</td>\n",
       "      <td>승용차</td>\n",
       "      <td>1</td>\n",
       "      <td>1</td>\n",
       "    </tr>\n",
       "    <tr>\n",
       "      <th>...</th>\n",
       "      <td>...</td>\n",
       "      <td>...</td>\n",
       "      <td>...</td>\n",
       "      <td>...</td>\n",
       "      <td>...</td>\n",
       "      <td>...</td>\n",
       "    </tr>\n",
       "    <tr>\n",
       "      <th>34140</th>\n",
       "      <td>경기</td>\n",
       "      <td>차대사람</td>\n",
       "      <td>보행자통행방해행위)</td>\n",
       "      <td>교차로내</td>\n",
       "      <td>3</td>\n",
       "      <td>1</td>\n",
       "    </tr>\n",
       "    <tr>\n",
       "      <th>34141</th>\n",
       "      <td>경기</td>\n",
       "      <td>차대차</td>\n",
       "      <td>단일로</td>\n",
       "      <td>승용차</td>\n",
       "      <td>1</td>\n",
       "      <td>1</td>\n",
       "    </tr>\n",
       "    <tr>\n",
       "      <th>34142</th>\n",
       "      <td>경기</td>\n",
       "      <td>차대차</td>\n",
       "      <td>단일로</td>\n",
       "      <td>화물차</td>\n",
       "      <td>2</td>\n",
       "      <td>0</td>\n",
       "    </tr>\n",
       "    <tr>\n",
       "      <th>34143</th>\n",
       "      <td>충남</td>\n",
       "      <td>차량단독</td>\n",
       "      <td>단일로</td>\n",
       "      <td>사륜오토바이(ATV)</td>\n",
       "      <td>1</td>\n",
       "      <td>0</td>\n",
       "    </tr>\n",
       "    <tr>\n",
       "      <th>34144</th>\n",
       "      <td>충남</td>\n",
       "      <td>차량단독</td>\n",
       "      <td>단일로</td>\n",
       "      <td>승용차</td>\n",
       "      <td>1</td>\n",
       "      <td>0</td>\n",
       "    </tr>\n",
       "  </tbody>\n",
       "</table>\n",
       "<p>34136 rows × 6 columns</p>\n",
       "</div>"
      ],
      "text/plain": [
       "      발생지시도 사고유형_대분류    도로형태_대분류 당사자종별_1당_대분류  사상자분류 주야분류\n",
       "0        서울     차대사람         단일로          승용차      1    1\n",
       "1        전북      차대차         단일로          승용차      3    1\n",
       "2        충남     차량단독         단일로          승용차      1    0\n",
       "3        경남      차대차         교차로          승합차      2    0\n",
       "4        경북     차량단독         단일로          승용차      1    1\n",
       "...     ...      ...         ...          ...    ...  ...\n",
       "34140    경기     차대사람  보행자통행방해행위)         교차로내      3    1\n",
       "34141    경기      차대차         단일로          승용차      1    1\n",
       "34142    경기      차대차         단일로          화물차      2    0\n",
       "34143    충남     차량단독         단일로  사륜오토바이(ATV)      1    0\n",
       "34144    충남     차량단독         단일로          승용차      1    0\n",
       "\n",
       "[34136 rows x 6 columns]"
      ]
     },
     "execution_count": 62,
     "metadata": {},
     "output_type": "execute_result"
    }
   ],
   "source": [
    "data"
   ]
  },
  {
   "cell_type": "markdown",
   "metadata": {
    "ExecuteTime": {
     "end_time": "2020-06-26T02:33:34.060541Z",
     "start_time": "2020-06-26T02:33:34.054554Z"
    }
   },
   "source": [
    "### 명목형 값을 특정 숫자로 변환하기"
   ]
  },
  {
   "cell_type": "markdown",
   "metadata": {
    "ExecuteTime": {
     "end_time": "2020-06-26T02:57:21.159129Z",
     "start_time": "2020-06-26T02:57:21.153145Z"
    }
   },
   "source": [
    "#### 발생지시도 값 먼저 변환해보기"
   ]
  },
  {
   "cell_type": "code",
   "execution_count": 63,
   "metadata": {
    "ExecuteTime": {
     "end_time": "2020-08-09T11:15:01.599965Z",
     "start_time": "2020-08-09T11:15:01.572966Z"
    }
   },
   "outputs": [
    {
     "data": {
      "text/plain": [
       "{'서울': 0,\n",
       " '전북': 1,\n",
       " '충남': 2,\n",
       " '경남': 3,\n",
       " '경북': 4,\n",
       " '전남': 5,\n",
       " '충북': 6,\n",
       " '부산': 7,\n",
       " '경기': 8,\n",
       " '인천': 9,\n",
       " '광주': 10,\n",
       " '울산': 11,\n",
       " '강원': 12,\n",
       " '대구': 13,\n",
       " '제주': 14,\n",
       " '대전': 15,\n",
       " '세종': 16}"
      ]
     },
     "execution_count": 63,
     "metadata": {},
     "output_type": "execute_result"
    }
   ],
   "source": [
    "#lookup_fruit_name = dict(zip(fruits.fruit_label.unique(), fruits.fruit_name.unique()))\n",
    "lookup_Area_value = dict(zip(data.발생지시도.unique(), range(len(data.발생지시도.unique()))))\n",
    "lookup_Area_value\n",
    "                         "
   ]
  },
  {
   "cell_type": "code",
   "execution_count": 64,
   "metadata": {
    "ExecuteTime": {
     "end_time": "2020-08-09T11:15:01.615975Z",
     "start_time": "2020-08-09T11:15:01.604970Z"
    }
   },
   "outputs": [
    {
     "data": {
      "text/plain": [
       "dict_keys(['서울', '전북', '충남', '경남', '경북', '전남', '충북', '부산', '경기', '인천', '광주', '울산', '강원', '대구', '제주', '대전', '세종'])"
      ]
     },
     "execution_count": 64,
     "metadata": {},
     "output_type": "execute_result"
    }
   ],
   "source": [
    "lookup_Area_value.keys()"
   ]
  },
  {
   "cell_type": "code",
   "execution_count": 65,
   "metadata": {
    "ExecuteTime": {
     "end_time": "2020-08-09T11:15:01.631968Z",
     "start_time": "2020-08-09T11:15:01.620967Z"
    }
   },
   "outputs": [
    {
     "data": {
      "text/plain": [
       "dict_values([0, 1, 2, 3, 4, 5, 6, 7, 8, 9, 10, 11, 12, 13, 14, 15, 16])"
      ]
     },
     "execution_count": 65,
     "metadata": {},
     "output_type": "execute_result"
    }
   ],
   "source": [
    "lookup_Area_value.values()"
   ]
  },
  {
   "cell_type": "code",
   "execution_count": 66,
   "metadata": {
    "ExecuteTime": {
     "end_time": "2020-08-09T11:15:01.710967Z",
     "start_time": "2020-08-09T11:15:01.637971Z"
    }
   },
   "outputs": [],
   "source": [
    "data['발생지시도'].replace(list(lookup_Area_value.keys()),list(lookup_Area_value.values()),inplace=True)"
   ]
  },
  {
   "cell_type": "code",
   "execution_count": 67,
   "metadata": {
    "ExecuteTime": {
     "end_time": "2020-08-09T11:15:01.758961Z",
     "start_time": "2020-08-09T11:15:01.715968Z"
    },
    "scrolled": true
   },
   "outputs": [
    {
     "data": {
      "text/html": [
       "<div>\n",
       "<style scoped>\n",
       "    .dataframe tbody tr th:only-of-type {\n",
       "        vertical-align: middle;\n",
       "    }\n",
       "\n",
       "    .dataframe tbody tr th {\n",
       "        vertical-align: top;\n",
       "    }\n",
       "\n",
       "    .dataframe thead th {\n",
       "        text-align: right;\n",
       "    }\n",
       "</style>\n",
       "<table border=\"1\" class=\"dataframe\">\n",
       "  <thead>\n",
       "    <tr style=\"text-align: right;\">\n",
       "      <th></th>\n",
       "      <th>발생지시도</th>\n",
       "      <th>사고유형_대분류</th>\n",
       "      <th>도로형태_대분류</th>\n",
       "      <th>당사자종별_1당_대분류</th>\n",
       "      <th>사상자분류</th>\n",
       "      <th>주야분류</th>\n",
       "    </tr>\n",
       "  </thead>\n",
       "  <tbody>\n",
       "    <tr>\n",
       "      <th>0</th>\n",
       "      <td>0</td>\n",
       "      <td>차대사람</td>\n",
       "      <td>단일로</td>\n",
       "      <td>승용차</td>\n",
       "      <td>1</td>\n",
       "      <td>1</td>\n",
       "    </tr>\n",
       "    <tr>\n",
       "      <th>1</th>\n",
       "      <td>1</td>\n",
       "      <td>차대차</td>\n",
       "      <td>단일로</td>\n",
       "      <td>승용차</td>\n",
       "      <td>3</td>\n",
       "      <td>1</td>\n",
       "    </tr>\n",
       "    <tr>\n",
       "      <th>2</th>\n",
       "      <td>2</td>\n",
       "      <td>차량단독</td>\n",
       "      <td>단일로</td>\n",
       "      <td>승용차</td>\n",
       "      <td>1</td>\n",
       "      <td>0</td>\n",
       "    </tr>\n",
       "    <tr>\n",
       "      <th>3</th>\n",
       "      <td>3</td>\n",
       "      <td>차대차</td>\n",
       "      <td>교차로</td>\n",
       "      <td>승합차</td>\n",
       "      <td>2</td>\n",
       "      <td>0</td>\n",
       "    </tr>\n",
       "    <tr>\n",
       "      <th>4</th>\n",
       "      <td>4</td>\n",
       "      <td>차량단독</td>\n",
       "      <td>단일로</td>\n",
       "      <td>승용차</td>\n",
       "      <td>1</td>\n",
       "      <td>1</td>\n",
       "    </tr>\n",
       "  </tbody>\n",
       "</table>\n",
       "</div>"
      ],
      "text/plain": [
       "   발생지시도 사고유형_대분류 도로형태_대분류 당사자종별_1당_대분류  사상자분류 주야분류\n",
       "0      0     차대사람      단일로          승용차      1    1\n",
       "1      1      차대차      단일로          승용차      3    1\n",
       "2      2     차량단독      단일로          승용차      1    0\n",
       "3      3      차대차      교차로          승합차      2    0\n",
       "4      4     차량단독      단일로          승용차      1    1"
      ]
     },
     "execution_count": 67,
     "metadata": {},
     "output_type": "execute_result"
    }
   ],
   "source": [
    "data.head()"
   ]
  },
  {
   "cell_type": "code",
   "execution_count": 68,
   "metadata": {
    "ExecuteTime": {
     "end_time": "2020-08-09T11:15:01.822962Z",
     "start_time": "2020-08-09T11:15:01.782964Z"
    },
    "scrolled": true
   },
   "outputs": [
    {
     "data": {
      "text/html": [
       "<div>\n",
       "<style scoped>\n",
       "    .dataframe tbody tr th:only-of-type {\n",
       "        vertical-align: middle;\n",
       "    }\n",
       "\n",
       "    .dataframe tbody tr th {\n",
       "        vertical-align: top;\n",
       "    }\n",
       "\n",
       "    .dataframe thead th {\n",
       "        text-align: right;\n",
       "    }\n",
       "</style>\n",
       "<table border=\"1\" class=\"dataframe\">\n",
       "  <thead>\n",
       "    <tr style=\"text-align: right;\">\n",
       "      <th></th>\n",
       "      <th>발생지시도</th>\n",
       "      <th>사고유형_대분류</th>\n",
       "      <th>도로형태_대분류</th>\n",
       "      <th>당사자종별_1당_대분류</th>\n",
       "      <th>사상자분류</th>\n",
       "      <th>주야분류</th>\n",
       "    </tr>\n",
       "  </thead>\n",
       "  <tbody>\n",
       "    <tr>\n",
       "      <th>5</th>\n",
       "      <td>4</td>\n",
       "      <td>차량단독</td>\n",
       "      <td>단일로</td>\n",
       "      <td>승용차</td>\n",
       "      <td>1</td>\n",
       "      <td>0</td>\n",
       "    </tr>\n",
       "    <tr>\n",
       "      <th>6</th>\n",
       "      <td>3</td>\n",
       "      <td>차량단독</td>\n",
       "      <td>단일로</td>\n",
       "      <td>승용차</td>\n",
       "      <td>2</td>\n",
       "      <td>0</td>\n",
       "    </tr>\n",
       "    <tr>\n",
       "      <th>7</th>\n",
       "      <td>4</td>\n",
       "      <td>차량단독</td>\n",
       "      <td>단일로</td>\n",
       "      <td>원동기장치자전거</td>\n",
       "      <td>1</td>\n",
       "      <td>1</td>\n",
       "    </tr>\n",
       "    <tr>\n",
       "      <th>8</th>\n",
       "      <td>2</td>\n",
       "      <td>차량단독</td>\n",
       "      <td>단일로</td>\n",
       "      <td>승용차</td>\n",
       "      <td>2</td>\n",
       "      <td>1</td>\n",
       "    </tr>\n",
       "    <tr>\n",
       "      <th>9</th>\n",
       "      <td>0</td>\n",
       "      <td>차대차</td>\n",
       "      <td>교차로</td>\n",
       "      <td>승합차</td>\n",
       "      <td>3</td>\n",
       "      <td>1</td>\n",
       "    </tr>\n",
       "  </tbody>\n",
       "</table>\n",
       "</div>"
      ],
      "text/plain": [
       "   발생지시도 사고유형_대분류 도로형태_대분류 당사자종별_1당_대분류  사상자분류 주야분류\n",
       "5      4     차량단독      단일로          승용차      1    0\n",
       "6      3     차량단독      단일로          승용차      2    0\n",
       "7      4     차량단독      단일로     원동기장치자전거      1    1\n",
       "8      2     차량단독      단일로          승용차      2    1\n",
       "9      0      차대차      교차로          승합차      3    1"
      ]
     },
     "execution_count": 68,
     "metadata": {},
     "output_type": "execute_result"
    }
   ],
   "source": [
    "data.iloc[5:10]"
   ]
  },
  {
   "cell_type": "markdown",
   "metadata": {},
   "source": [
    "#### 다른 컬럼 이제 바꾸기"
   ]
  },
  {
   "cell_type": "code",
   "execution_count": 69,
   "metadata": {
    "ExecuteTime": {
     "end_time": "2020-08-09T11:15:01.900962Z",
     "start_time": "2020-08-09T11:15:01.836967Z"
    }
   },
   "outputs": [],
   "source": [
    "lookup_LoadType_value = dict(zip(data.도로형태_대분류.unique(), range(len(data.도로형태_대분류.unique()))))\n",
    "data['도로형태_대분류'].replace(list(lookup_LoadType_value.keys()),list(lookup_LoadType_value.values()),inplace=True)"
   ]
  },
  {
   "cell_type": "code",
   "execution_count": 70,
   "metadata": {
    "ExecuteTime": {
     "end_time": "2020-08-09T11:15:02.026962Z",
     "start_time": "2020-08-09T11:15:01.904966Z"
    }
   },
   "outputs": [],
   "source": [
    "lookup_AttackCarType_value = dict(zip(data.당사자종별_1당_대분류.unique(), range(len(data.당사자종별_1당_대분류.unique()))))\n",
    "data['당사자종별_1당_대분류'].replace(list(lookup_AttackCarType_value.keys()),list(lookup_AttackCarType_value.values()),inplace=True)\n",
    "\n",
    "# 사고유형_대분류만 목표 변수니까 이름을 value로 하겠다.\n",
    "lookup_AccidentType_name = dict(zip(range(len(data.사고유형_대분류.unique())), data.사고유형_대분류.unique()))\n",
    "data['사고유형_대분류'].replace(list(lookup_AccidentType_name.values()),list(lookup_AccidentType_name.keys()),inplace=True)"
   ]
  },
  {
   "cell_type": "code",
   "execution_count": 71,
   "metadata": {
    "ExecuteTime": {
     "end_time": "2020-08-09T11:15:02.058962Z",
     "start_time": "2020-08-09T11:15:02.031965Z"
    },
    "scrolled": false
   },
   "outputs": [
    {
     "data": {
      "text/html": [
       "<div>\n",
       "<style scoped>\n",
       "    .dataframe tbody tr th:only-of-type {\n",
       "        vertical-align: middle;\n",
       "    }\n",
       "\n",
       "    .dataframe tbody tr th {\n",
       "        vertical-align: top;\n",
       "    }\n",
       "\n",
       "    .dataframe thead th {\n",
       "        text-align: right;\n",
       "    }\n",
       "</style>\n",
       "<table border=\"1\" class=\"dataframe\">\n",
       "  <thead>\n",
       "    <tr style=\"text-align: right;\">\n",
       "      <th></th>\n",
       "      <th>발생지시도</th>\n",
       "      <th>사고유형_대분류</th>\n",
       "      <th>도로형태_대분류</th>\n",
       "      <th>당사자종별_1당_대분류</th>\n",
       "      <th>사상자분류</th>\n",
       "      <th>주야분류</th>\n",
       "    </tr>\n",
       "  </thead>\n",
       "  <tbody>\n",
       "    <tr>\n",
       "      <th>0</th>\n",
       "      <td>0</td>\n",
       "      <td>0</td>\n",
       "      <td>0</td>\n",
       "      <td>0</td>\n",
       "      <td>1</td>\n",
       "      <td>1</td>\n",
       "    </tr>\n",
       "    <tr>\n",
       "      <th>1</th>\n",
       "      <td>1</td>\n",
       "      <td>1</td>\n",
       "      <td>0</td>\n",
       "      <td>0</td>\n",
       "      <td>3</td>\n",
       "      <td>1</td>\n",
       "    </tr>\n",
       "    <tr>\n",
       "      <th>2</th>\n",
       "      <td>2</td>\n",
       "      <td>2</td>\n",
       "      <td>0</td>\n",
       "      <td>0</td>\n",
       "      <td>1</td>\n",
       "      <td>0</td>\n",
       "    </tr>\n",
       "    <tr>\n",
       "      <th>3</th>\n",
       "      <td>3</td>\n",
       "      <td>1</td>\n",
       "      <td>1</td>\n",
       "      <td>1</td>\n",
       "      <td>2</td>\n",
       "      <td>0</td>\n",
       "    </tr>\n",
       "    <tr>\n",
       "      <th>4</th>\n",
       "      <td>4</td>\n",
       "      <td>2</td>\n",
       "      <td>0</td>\n",
       "      <td>0</td>\n",
       "      <td>1</td>\n",
       "      <td>1</td>\n",
       "    </tr>\n",
       "  </tbody>\n",
       "</table>\n",
       "</div>"
      ],
      "text/plain": [
       "   발생지시도  사고유형_대분류  도로형태_대분류  당사자종별_1당_대분류  사상자분류 주야분류\n",
       "0      0         0         0             0      1    1\n",
       "1      1         1         0             0      3    1\n",
       "2      2         2         0             0      1    0\n",
       "3      3         1         1             1      2    0\n",
       "4      4         2         0             0      1    1"
      ]
     },
     "execution_count": 71,
     "metadata": {},
     "output_type": "execute_result"
    }
   ],
   "source": [
    "data.head()"
   ]
  },
  {
   "cell_type": "code",
   "execution_count": 72,
   "metadata": {
    "ExecuteTime": {
     "end_time": "2020-08-09T11:15:02.074970Z",
     "start_time": "2020-08-09T11:15:02.063966Z"
    }
   },
   "outputs": [
    {
     "data": {
      "text/plain": [
       "{'주간': 0, '야간': 1}"
      ]
     },
     "execution_count": 72,
     "metadata": {},
     "output_type": "execute_result"
    }
   ],
   "source": [
    "lookup_DayType_value = {'주간': 0, '야간':1}\n",
    "lookup_DayType_value"
   ]
  },
  {
   "cell_type": "code",
   "execution_count": 73,
   "metadata": {
    "ExecuteTime": {
     "end_time": "2020-08-09T11:15:02.090970Z",
     "start_time": "2020-08-09T11:15:02.079968Z"
    }
   },
   "outputs": [],
   "source": [
    "def lookup_CasualtiesType_value(num):\n",
    "    if num >=3 :\n",
    "        return 3\n",
    "    else :\n",
    "        return num"
   ]
  },
  {
   "cell_type": "code",
   "execution_count": 74,
   "metadata": {
    "ExecuteTime": {
     "end_time": "2020-08-09T11:15:02.122963Z",
     "start_time": "2020-08-09T11:15:02.096964Z"
    }
   },
   "outputs": [
    {
     "data": {
      "text/plain": [
       "3"
      ]
     },
     "execution_count": 74,
     "metadata": {},
     "output_type": "execute_result"
    }
   ],
   "source": [
    "lookup_CasualtiesType_value(65)"
   ]
  },
  {
   "cell_type": "markdown",
   "metadata": {},
   "source": [
    "#### 만들어진 lookup dictionary 확인하기"
   ]
  },
  {
   "cell_type": "code",
   "execution_count": 75,
   "metadata": {
    "ExecuteTime": {
     "end_time": "2020-08-09T11:15:02.137966Z",
     "start_time": "2020-08-09T11:15:02.126966Z"
    },
    "scrolled": true
   },
   "outputs": [
    {
     "name": "stdout",
     "output_type": "stream",
     "text": [
      "{'서울': 0, '전북': 1, '충남': 2, '경남': 3, '경북': 4, '전남': 5, '충북': 6, '부산': 7, '경기': 8, '인천': 9, '광주': 10, '울산': 11, '강원': 12, '대구': 13, '제주': 14, '대전': 15, '세종': 16}\n",
      "\n",
      "{'단일로': 0, '교차로': 1, '기타/불명': 2, ' 횡단 후진등 금지위반(부당한 회전)': 3, '어린이보호위반': 4, ' 최저속도': 5, '보행자통행방해행위)': 6, '유턴': 7, '기타': 8, '불명': 9, '주차장': 10}\n",
      "\n",
      "{'승용차': 0, '승합차': 1, '원동기장치자전거': 2, '이륜차': 3, '화물차': 4, '농기계': 5, '특수차': 6, '자전거': 7, '교차로부근': 8, '건설기계': 9, '단일로': 10, '교차로내': 11, '기타단일로': 12, '불명': 13, '횡단보도부근': 14, '횡단보도상': 15, '교차로': 16, '기타/불명': 17, '고가도로위': 18, '교량위': 19, '사륜오토바이(ATV)': 20, '기타': 21, '개인형이동수단(PM)': 22, '교차로횡단보도내': 23, '지하차도(도로)내': 24}\n",
      "\n",
      "{'주간': 0, '야간': 1}\n",
      "\n",
      "{0: '차대사람', 1: '차대차', 2: '차량단독'}\n"
     ]
    }
   ],
   "source": [
    "# 입력변수 관련 dictionary 확인.\n",
    "print(lookup_Area_value)\n",
    "print()\n",
    "print(lookup_LoadType_value)\n",
    "print()\n",
    "print(lookup_AttackCarType_value)\n",
    "print()\n",
    "# lookup_CasualtiesType_value 함수 확인.\n",
    "print(lookup_DayType_value)\n",
    "print()\n",
    "# 목표 변수 관련 dictionary 확인.\n",
    "print(lookup_AccidentType_name)\n"
   ]
  },
  {
   "cell_type": "markdown",
   "metadata": {},
   "source": [
    "## Predictive Modeling"
   ]
  },
  {
   "cell_type": "markdown",
   "metadata": {},
   "source": [
    "저는 \n",
    "입력 변수(독립변수)를\n",
    "당사자종별_1당_대분류,\t도로형태_대분류,\t발생지시도,\t사상자분류,\t주야분류 로 하였습니다.\n",
    "\n",
    "그리고 \n",
    "출력변수(종속변수)를\n",
    "\n",
    "사고유형_대분류로 하였습니다.\n",
    "\n",
    "\n",
    "그래서 사고유형_대분류를 추정할 수 있는 모델을 만들었습니다."
   ]
  },
  {
   "cell_type": "code",
   "execution_count": 76,
   "metadata": {
    "ExecuteTime": {
     "end_time": "2020-08-09T11:15:02.788961Z",
     "start_time": "2020-08-09T11:15:02.143980Z"
    }
   },
   "outputs": [],
   "source": [
    "from sklearn.model_selection import train_test_split\n",
    "from sklearn.linear_model import LogisticRegression\n",
    "from sklearn.svm import SVC\n",
    "from sklearn.tree import DecisionTreeClassifier\n",
    "from sklearn.ensemble import RandomForestClassifier\n",
    "\n",
    "from sklearn.metrics import confusion_matrix\n",
    "from sklearn.metrics import accuracy_score, precision_score, recall_score\n"
   ]
  },
  {
   "cell_type": "code",
   "execution_count": 77,
   "metadata": {
    "ExecuteTime": {
     "end_time": "2020-08-09T11:15:02.836979Z",
     "start_time": "2020-08-09T11:15:02.793978Z"
    }
   },
   "outputs": [
    {
     "data": {
      "text/html": [
       "<div>\n",
       "<style scoped>\n",
       "    .dataframe tbody tr th:only-of-type {\n",
       "        vertical-align: middle;\n",
       "    }\n",
       "\n",
       "    .dataframe tbody tr th {\n",
       "        vertical-align: top;\n",
       "    }\n",
       "\n",
       "    .dataframe thead th {\n",
       "        text-align: right;\n",
       "    }\n",
       "</style>\n",
       "<table border=\"1\" class=\"dataframe\">\n",
       "  <thead>\n",
       "    <tr style=\"text-align: right;\">\n",
       "      <th></th>\n",
       "      <th>발생지시도</th>\n",
       "      <th>사고유형_대분류</th>\n",
       "      <th>도로형태_대분류</th>\n",
       "      <th>당사자종별_1당_대분류</th>\n",
       "      <th>사상자분류</th>\n",
       "      <th>주야분류</th>\n",
       "    </tr>\n",
       "  </thead>\n",
       "  <tbody>\n",
       "    <tr>\n",
       "      <th>0</th>\n",
       "      <td>0</td>\n",
       "      <td>0</td>\n",
       "      <td>0</td>\n",
       "      <td>0</td>\n",
       "      <td>1</td>\n",
       "      <td>1</td>\n",
       "    </tr>\n",
       "    <tr>\n",
       "      <th>1</th>\n",
       "      <td>1</td>\n",
       "      <td>1</td>\n",
       "      <td>0</td>\n",
       "      <td>0</td>\n",
       "      <td>3</td>\n",
       "      <td>1</td>\n",
       "    </tr>\n",
       "    <tr>\n",
       "      <th>2</th>\n",
       "      <td>2</td>\n",
       "      <td>2</td>\n",
       "      <td>0</td>\n",
       "      <td>0</td>\n",
       "      <td>1</td>\n",
       "      <td>0</td>\n",
       "    </tr>\n",
       "    <tr>\n",
       "      <th>3</th>\n",
       "      <td>3</td>\n",
       "      <td>1</td>\n",
       "      <td>1</td>\n",
       "      <td>1</td>\n",
       "      <td>2</td>\n",
       "      <td>0</td>\n",
       "    </tr>\n",
       "    <tr>\n",
       "      <th>4</th>\n",
       "      <td>4</td>\n",
       "      <td>2</td>\n",
       "      <td>0</td>\n",
       "      <td>0</td>\n",
       "      <td>1</td>\n",
       "      <td>1</td>\n",
       "    </tr>\n",
       "  </tbody>\n",
       "</table>\n",
       "</div>"
      ],
      "text/plain": [
       "   발생지시도  사고유형_대분류  도로형태_대분류  당사자종별_1당_대분류  사상자분류 주야분류\n",
       "0      0         0         0             0      1    1\n",
       "1      1         1         0             0      3    1\n",
       "2      2         2         0             0      1    0\n",
       "3      3         1         1             1      2    0\n",
       "4      4         2         0             0      1    1"
      ]
     },
     "execution_count": 77,
     "metadata": {},
     "output_type": "execute_result"
    }
   ],
   "source": [
    "data.head()"
   ]
  },
  {
   "cell_type": "code",
   "execution_count": 78,
   "metadata": {
    "ExecuteTime": {
     "end_time": "2020-08-09T11:15:02.898966Z",
     "start_time": "2020-08-09T11:15:02.850963Z"
    }
   },
   "outputs": [],
   "source": [
    "# X_fruits = fruits[['height', 'width', 'mass', 'color_score']]\n",
    "# y_fruits = fruits['fruit_label']\n",
    "X_data = data[data.columns.difference(['사고유형_대분류'])]\n",
    "y_data = data[['사고유형_대분류']]"
   ]
  },
  {
   "cell_type": "code",
   "execution_count": 79,
   "metadata": {
    "ExecuteTime": {
     "end_time": "2020-08-09T11:15:02.948965Z",
     "start_time": "2020-08-09T11:15:02.907965Z"
    }
   },
   "outputs": [
    {
     "data": {
      "text/plain": [
       "Index(['당사자종별_1당_대분류', '도로형태_대분류', '발생지시도', '사상자분류', '주야분류'], dtype='object')"
      ]
     },
     "execution_count": 79,
     "metadata": {},
     "output_type": "execute_result"
    }
   ],
   "source": [
    "data.columns.difference(['사고유형_대분류'])"
   ]
  },
  {
   "cell_type": "code",
   "execution_count": 80,
   "metadata": {
    "ExecuteTime": {
     "end_time": "2020-08-09T11:15:03.024966Z",
     "start_time": "2020-08-09T11:15:02.961966Z"
    }
   },
   "outputs": [
    {
     "data": {
      "text/html": [
       "<div>\n",
       "<style scoped>\n",
       "    .dataframe tbody tr th:only-of-type {\n",
       "        vertical-align: middle;\n",
       "    }\n",
       "\n",
       "    .dataframe tbody tr th {\n",
       "        vertical-align: top;\n",
       "    }\n",
       "\n",
       "    .dataframe thead th {\n",
       "        text-align: right;\n",
       "    }\n",
       "</style>\n",
       "<table border=\"1\" class=\"dataframe\">\n",
       "  <thead>\n",
       "    <tr style=\"text-align: right;\">\n",
       "      <th></th>\n",
       "      <th>당사자종별_1당_대분류</th>\n",
       "      <th>도로형태_대분류</th>\n",
       "      <th>발생지시도</th>\n",
       "      <th>사상자분류</th>\n",
       "      <th>주야분류</th>\n",
       "    </tr>\n",
       "  </thead>\n",
       "  <tbody>\n",
       "    <tr>\n",
       "      <th>0</th>\n",
       "      <td>0</td>\n",
       "      <td>0</td>\n",
       "      <td>0</td>\n",
       "      <td>1</td>\n",
       "      <td>1</td>\n",
       "    </tr>\n",
       "    <tr>\n",
       "      <th>1</th>\n",
       "      <td>0</td>\n",
       "      <td>0</td>\n",
       "      <td>1</td>\n",
       "      <td>3</td>\n",
       "      <td>1</td>\n",
       "    </tr>\n",
       "    <tr>\n",
       "      <th>2</th>\n",
       "      <td>0</td>\n",
       "      <td>0</td>\n",
       "      <td>2</td>\n",
       "      <td>1</td>\n",
       "      <td>0</td>\n",
       "    </tr>\n",
       "    <tr>\n",
       "      <th>3</th>\n",
       "      <td>1</td>\n",
       "      <td>1</td>\n",
       "      <td>3</td>\n",
       "      <td>2</td>\n",
       "      <td>0</td>\n",
       "    </tr>\n",
       "    <tr>\n",
       "      <th>4</th>\n",
       "      <td>0</td>\n",
       "      <td>0</td>\n",
       "      <td>4</td>\n",
       "      <td>1</td>\n",
       "      <td>1</td>\n",
       "    </tr>\n",
       "  </tbody>\n",
       "</table>\n",
       "</div>"
      ],
      "text/plain": [
       "   당사자종별_1당_대분류  도로형태_대분류  발생지시도  사상자분류 주야분류\n",
       "0             0         0      0      1    1\n",
       "1             0         0      1      3    1\n",
       "2             0         0      2      1    0\n",
       "3             1         1      3      2    0\n",
       "4             0         0      4      1    1"
      ]
     },
     "execution_count": 80,
     "metadata": {},
     "output_type": "execute_result"
    }
   ],
   "source": [
    "X_data.head()"
   ]
  },
  {
   "cell_type": "code",
   "execution_count": 81,
   "metadata": {
    "ExecuteTime": {
     "end_time": "2020-08-09T11:15:03.071966Z",
     "start_time": "2020-08-09T11:15:03.033966Z"
    }
   },
   "outputs": [
    {
     "data": {
      "text/html": [
       "<div>\n",
       "<style scoped>\n",
       "    .dataframe tbody tr th:only-of-type {\n",
       "        vertical-align: middle;\n",
       "    }\n",
       "\n",
       "    .dataframe tbody tr th {\n",
       "        vertical-align: top;\n",
       "    }\n",
       "\n",
       "    .dataframe thead th {\n",
       "        text-align: right;\n",
       "    }\n",
       "</style>\n",
       "<table border=\"1\" class=\"dataframe\">\n",
       "  <thead>\n",
       "    <tr style=\"text-align: right;\">\n",
       "      <th></th>\n",
       "      <th>사고유형_대분류</th>\n",
       "    </tr>\n",
       "  </thead>\n",
       "  <tbody>\n",
       "    <tr>\n",
       "      <th>0</th>\n",
       "      <td>0</td>\n",
       "    </tr>\n",
       "    <tr>\n",
       "      <th>1</th>\n",
       "      <td>1</td>\n",
       "    </tr>\n",
       "    <tr>\n",
       "      <th>2</th>\n",
       "      <td>2</td>\n",
       "    </tr>\n",
       "    <tr>\n",
       "      <th>3</th>\n",
       "      <td>1</td>\n",
       "    </tr>\n",
       "    <tr>\n",
       "      <th>4</th>\n",
       "      <td>2</td>\n",
       "    </tr>\n",
       "  </tbody>\n",
       "</table>\n",
       "</div>"
      ],
      "text/plain": [
       "   사고유형_대분류\n",
       "0         0\n",
       "1         1\n",
       "2         2\n",
       "3         1\n",
       "4         2"
      ]
     },
     "execution_count": 81,
     "metadata": {},
     "output_type": "execute_result"
    }
   ],
   "source": [
    "y_data.head()"
   ]
  },
  {
   "cell_type": "markdown",
   "metadata": {},
   "source": [
    "### 데이터 나누기"
   ]
  },
  {
   "cell_type": "code",
   "execution_count": 82,
   "metadata": {
    "ExecuteTime": {
     "end_time": "2020-08-09T11:15:03.119961Z",
     "start_time": "2020-08-09T11:15:03.077968Z"
    }
   },
   "outputs": [],
   "source": [
    "X_train, X_test, y_train, y_test = train_test_split(X_data, y_data, random_state = 0)"
   ]
  },
  {
   "cell_type": "markdown",
   "metadata": {
    "ExecuteTime": {
     "end_time": "2020-06-26T04:57:40.500115Z",
     "start_time": "2020-06-26T04:57:40.494133Z"
    }
   },
   "source": [
    "### 학습하고 평가하기 "
   ]
  },
  {
   "cell_type": "markdown",
   "metadata": {},
   "source": [
    "multi-classification이라서 precision score와 recall score를 계산할 수 없었습니다."
   ]
  },
  {
   "cell_type": "code",
   "execution_count": 83,
   "metadata": {
    "ExecuteTime": {
     "end_time": "2020-08-09T11:16:15.291997Z",
     "start_time": "2020-08-09T11:15:03.124970Z"
    }
   },
   "outputs": [
    {
     "name": "stdout",
     "output_type": "stream",
     "text": [
      "LR trainingScore :  0.54 testScore :  0.55\n",
      "SVM trainingScore :  0.58 testScore :  0.58\n",
      "DT trainingScore :  0.66 testScore :  0.63\n",
      "RF trainingScore :  0.66 testScore :  0.63\n"
     ]
    }
   ],
   "source": [
    "models = []\n",
    "models.append(('LR', LogisticRegression()))\n",
    "models.append(('SVM', SVC()))\n",
    "models.append(('DT', DecisionTreeClassifier()))\n",
    "models.append(('RF', RandomForestClassifier()))\n",
    "\n",
    "names = []\n",
    "# precisionList = []\n",
    "# recallList = []\n",
    "clfTrainingScoreList=[]\n",
    "clfTestScoreList=[]\n",
    "\n",
    "for name, model in models :\n",
    "    model.fit(X_train, y_train)\n",
    "    clfTrainingScoreList.append(model.score(X_train, y_train))\n",
    "    clfTestScoreList.append(model.score(X_test, y_test))\n",
    "#    y_predicted = model.predict(X_test)\n",
    "    names.append(name)\n",
    "#     precisionList.append(precision_score(y_test, y_predicted))\n",
    "#     recallList.append(recall_score(y_test, y_predicted))\n",
    "#  멅티 클래시피케이션이라 \n",
    "\n",
    "for name, trainingScore, testScore in zip(names, clfTrainingScoreList, clfTestScoreList):\n",
    "    #print(names[i], 'precision : ', '{:.2f}'.format(precisionList[i]), 'recall : ', '{:.2f}'.format(recallList[i]))\n",
    "    print(name, 'trainingScore : ', '{:.2f}'.format(trainingScore), 'testScore : ', '{:.2f}'.format(testScore))"
   ]
  },
  {
   "cell_type": "markdown",
   "metadata": {
    "ExecuteTime": {
     "end_time": "2020-06-26T05:04:43.764577Z",
     "start_time": "2020-06-26T05:04:43.759586Z"
    }
   },
   "source": [
    "### 그래프로 표현하기"
   ]
  },
  {
   "cell_type": "code",
   "execution_count": 84,
   "metadata": {
    "ExecuteTime": {
     "end_time": "2020-08-09T11:16:15.670965Z",
     "start_time": "2020-08-09T11:16:15.296971Z"
    }
   },
   "outputs": [
    {
     "data": {
      "image/png": "[encoded data removed]",
      "text/plain": [
       "<Figure size 432x288 with 1 Axes>"
      ]
     },
     "metadata": {
      "needs_background": "light"
     },
     "output_type": "display_data"
    }
   ],
   "source": [
    "plt.figure()\n",
    "xvals = range(len(clfTrainingScoreList))\n",
    "bar1 = plt.bar(xvals, clfTrainingScoreList, width = 0.3)\n",
    "new_xvals = []\n",
    "for item in xvals:\n",
    "    new_xvals.append(item + 0.3)\n",
    "bar2 = plt.bar(new_xvals, clfTestScoreList, width = 0.3 , color = 'red')\n",
    "nameList = ['LR', 'SVC', 'DT', 'RF']\n",
    "pos = np.arange(len(nameList))\n",
    "plt.xticks(pos, nameList)\n",
    "plt.ylabel('accurate score(0~1)')\n",
    "plt.title('scores of Supervised Learning', alpha=0.8)\n",
    "plt.legend(['train', 'test'])\n",
    "for bar in (bar1):\n",
    "    plt.text(\n",
    "        bar.get_x() + bar.get_width() / 2,\n",
    "        bar.get_height() -0.05,\n",
    "        '%.2f' % float(bar.get_height()) + \"%\",\n",
    "        horizontalalignment='center',\n",
    "        color='black',\n",
    "        #weight='bold',\n",
    "        #fontsize=11\n",
    ")\n",
    "for bar in (bar2):\n",
    "    plt.text(\n",
    "        bar.get_x() + bar.get_width() / 2,\n",
    "        bar.get_height() -0.05,\n",
    "        '%.2f' % float(bar.get_height()) + \"%\",\n",
    "        horizontalalignment='center',\n",
    "        color='white',\n",
    "        #weight='bold',\n",
    "        #fontsize=11\n",
    ")"
   ]
  },
  {
   "cell_type": "markdown",
   "metadata": {
    "ExecuteTime": {
     "end_time": "2020-06-26T05:01:16.056803Z",
     "start_time": "2020-06-26T05:01:16.046831Z"
    }
   },
   "source": [
    "어떤 모델에서 테스트셋 구분에 가장 좋은 성능을 보이는지 보았더니\n",
    "렌덤 포레스트와 의사결정 트리로 밝혀졌습니다."
   ]
  },
  {
   "cell_type": "markdown",
   "metadata": {},
   "source": [
    "### 예측해보기"
   ]
  },
  {
   "cell_type": "markdown",
   "metadata": {},
   "source": [
    " 그렇다면 사상자수가 3명이상 인 사고, \n",
    " \n",
    "주간에 서울에서 단일로에서 승용차 사고로 사상자수가 4명이 발생했을때,\n",
    "그 사고의 사고유형 대분류를 예측해보겠습니다."
   ]
  },
  {
   "cell_type": "code",
   "execution_count": 85,
   "metadata": {
    "ExecuteTime": {
     "end_time": "2020-08-09T11:16:15.701961Z",
     "start_time": "2020-08-09T11:16:15.674964Z"
    }
   },
   "outputs": [
    {
     "data": {
      "text/html": [
       "<div>\n",
       "<style scoped>\n",
       "    .dataframe tbody tr th:only-of-type {\n",
       "        vertical-align: middle;\n",
       "    }\n",
       "\n",
       "    .dataframe tbody tr th {\n",
       "        vertical-align: top;\n",
       "    }\n",
       "\n",
       "    .dataframe thead th {\n",
       "        text-align: right;\n",
       "    }\n",
       "</style>\n",
       "<table border=\"1\" class=\"dataframe\">\n",
       "  <thead>\n",
       "    <tr style=\"text-align: right;\">\n",
       "      <th></th>\n",
       "      <th>당사자종별_1당_대분류</th>\n",
       "      <th>도로형태_대분류</th>\n",
       "      <th>발생지시도</th>\n",
       "      <th>사상자분류</th>\n",
       "      <th>주야분류</th>\n",
       "    </tr>\n",
       "  </thead>\n",
       "  <tbody>\n",
       "    <tr>\n",
       "      <th>0</th>\n",
       "      <td>0</td>\n",
       "      <td>0</td>\n",
       "      <td>0</td>\n",
       "      <td>1</td>\n",
       "      <td>1</td>\n",
       "    </tr>\n",
       "    <tr>\n",
       "      <th>1</th>\n",
       "      <td>0</td>\n",
       "      <td>0</td>\n",
       "      <td>1</td>\n",
       "      <td>3</td>\n",
       "      <td>1</td>\n",
       "    </tr>\n",
       "    <tr>\n",
       "      <th>2</th>\n",
       "      <td>0</td>\n",
       "      <td>0</td>\n",
       "      <td>2</td>\n",
       "      <td>1</td>\n",
       "      <td>0</td>\n",
       "    </tr>\n",
       "    <tr>\n",
       "      <th>3</th>\n",
       "      <td>1</td>\n",
       "      <td>1</td>\n",
       "      <td>3</td>\n",
       "      <td>2</td>\n",
       "      <td>0</td>\n",
       "    </tr>\n",
       "    <tr>\n",
       "      <th>4</th>\n",
       "      <td>0</td>\n",
       "      <td>0</td>\n",
       "      <td>4</td>\n",
       "      <td>1</td>\n",
       "      <td>1</td>\n",
       "    </tr>\n",
       "  </tbody>\n",
       "</table>\n",
       "</div>"
      ],
      "text/plain": [
       "   당사자종별_1당_대분류  도로형태_대분류  발생지시도  사상자분류 주야분류\n",
       "0             0         0      0      1    1\n",
       "1             0         0      1      3    1\n",
       "2             0         0      2      1    0\n",
       "3             1         1      3      2    0\n",
       "4             0         0      4      1    1"
      ]
     },
     "execution_count": 85,
     "metadata": {},
     "output_type": "execute_result"
    }
   ],
   "source": [
    "X_data.head()"
   ]
  },
  {
   "cell_type": "code",
   "execution_count": 86,
   "metadata": {
    "ExecuteTime": {
     "end_time": "2020-08-09T11:16:15.733960Z",
     "start_time": "2020-08-09T11:16:15.705966Z"
    }
   },
   "outputs": [],
   "source": [
    "accidentType_prediction = models[3][1].predict([[lookup_AttackCarType_value['승용차'],\n",
    "                                       lookup_LoadType_value['단일로'], \n",
    "                                       lookup_Area_value['서울'],\n",
    "                                       lookup_CasualtiesType_value(4),\n",
    "                                      lookup_DayType_value['주간']]])"
   ]
  },
  {
   "cell_type": "code",
   "execution_count": 87,
   "metadata": {
    "ExecuteTime": {
     "end_time": "2020-08-09T11:16:15.764962Z",
     "start_time": "2020-08-09T11:16:15.741973Z"
    }
   },
   "outputs": [
    {
     "data": {
      "text/plain": [
       "'차대차'"
      ]
     },
     "execution_count": 87,
     "metadata": {},
     "output_type": "execute_result"
    }
   ],
   "source": [
    "lookup_AccidentType_name[accidentType_prediction[0]]"
   ]
  },
  {
   "cell_type": "markdown",
   "metadata": {},
   "source": [
    "아, 차대차 사고일 것이구나 예측할 수 있습니다."
   ]
  },
  {
   "cell_type": "markdown",
   "metadata": {},
   "source": [
    "끝까지 읽어주셔서 감사합니다.!"
   ]
  }
 ],
 "metadata": {
  "hide_input": false,
  "kernelspec": {
   "display_name": "Python 3",
   "language": "python",
   "name": "python3"
  },
  "language_info": {
   "codemirror_mode": {
    "name": "ipython",
    "version": 3
   },
   "file_extension": ".py",
   "mimetype": "text/x-python",
   "name": "python",
   "nbconvert_exporter": "python",
   "pygments_lexer": "ipython3",
   "version": "3.8.3"
  },
  "toc": {
   "base_numbering": 1,
   "nav_menu": {},
   "number_sections": true,
   "sideBar": true,
   "skip_h1_title": false,
   "title_cell": "Table of Contents",
   "title_sidebar": "Contents",
   "toc_cell": false,
   "toc_position": {
    "height": "569.6px",
    "left": "68px",
    "top": "136px",
    "width": "609.4px"
   },
   "toc_section_display": true,
   "toc_window_display": true
  },
  "varInspector": {
   "cols": {
    "lenName": 16,
    "lenType": 16,
    "lenVar": 40
   },
   "kernels_config": {
    "python": {
     "delete_cmd_postfix": "",
     "delete_cmd_prefix": "del ",
     "library": "var_list.py",
     "varRefreshCmd": "print(var_dic_list())"
    },
    "r": {
     "delete_cmd_postfix": ") ",
     "delete_cmd_prefix": "rm(",
     "library": "var_list.r",
     "varRefreshCmd": "cat(var_dic_list()) "
    }
   },
   "types_to_exclude": [
    "module",
    "function",
    "builtin_function_or_method",
    "instance",
    "_Feature"
   ],
   "window_display": false
  }
 },
 "nbformat": 4,
 "nbformat_minor": 4
}
